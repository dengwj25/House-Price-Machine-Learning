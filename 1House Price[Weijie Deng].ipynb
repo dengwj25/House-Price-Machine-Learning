{
 "cells": [
  {
   "cell_type": "code",
   "execution_count": 552,
   "metadata": {
    "_cell_guid": "0d706811-b70c-aeab-a78b-3c7abd9978d3",
    "collapsed": true
   },
   "outputs": [],
   "source": [
    "import pandas as pd\n",
    "import numpy as np\n",
    "import seaborn as sns\n",
    "import matplotlib\n",
    "import math\n",
    "import matplotlib.pyplot as plt\n",
    "from scipy.stats import skew\n",
    "from scipy.stats.stats import pearsonr\n",
    "\n",
    "\n",
    "%config InlineBackend.figure_format = 'retina' #set 'png' here when working on notebook\n",
    "%matplotlib inline"
   ]
  },
  {
   "cell_type": "code",
   "execution_count": 901,
   "metadata": {
    "_cell_guid": "603292c1-44b7-d72a-5468-e6782f311603",
    "collapsed": true
   },
   "outputs": [],
   "source": [
    "train = pd.read_csv(\"train.csv\")\n",
    "test = pd.read_csv(\"test.csv\") \n",
    "#read data"
   ]
  },
  {
   "cell_type": "code",
   "execution_count": 903,
   "metadata": {},
   "outputs": [
    {
     "data": {
      "text/html": [
       "<div>\n",
       "<style>\n",
       "    .dataframe thead tr:only-child th {\n",
       "        text-align: right;\n",
       "    }\n",
       "\n",
       "    .dataframe thead th {\n",
       "        text-align: left;\n",
       "    }\n",
       "\n",
       "    .dataframe tbody tr th {\n",
       "        vertical-align: top;\n",
       "    }\n",
       "</style>\n",
       "<table border=\"1\" class=\"dataframe\">\n",
       "  <thead>\n",
       "    <tr style=\"text-align: right;\">\n",
       "      <th></th>\n",
       "      <th>Id</th>\n",
       "      <th>MSSubClass</th>\n",
       "      <th>MSZoning</th>\n",
       "      <th>LotFrontage</th>\n",
       "      <th>LotArea</th>\n",
       "      <th>Street</th>\n",
       "      <th>Alley</th>\n",
       "      <th>LotShape</th>\n",
       "      <th>LandContour</th>\n",
       "      <th>Utilities</th>\n",
       "      <th>LotConfig</th>\n",
       "      <th>LandSlope</th>\n",
       "      <th>Neighborhood</th>\n",
       "      <th>Condition1</th>\n",
       "      <th>Condition2</th>\n",
       "      <th>BldgType</th>\n",
       "      <th>HouseStyle</th>\n",
       "      <th>OverallQual</th>\n",
       "      <th>OverallCond</th>\n",
       "      <th>YearBuilt</th>\n",
       "      <th>YearRemodAdd</th>\n",
       "      <th>RoofStyle</th>\n",
       "      <th>RoofMatl</th>\n",
       "      <th>Exterior1st</th>\n",
       "      <th>Exterior2nd</th>\n",
       "      <th>MasVnrType</th>\n",
       "      <th>MasVnrArea</th>\n",
       "      <th>ExterQual</th>\n",
       "      <th>ExterCond</th>\n",
       "      <th>Foundation</th>\n",
       "      <th>BsmtQual</th>\n",
       "      <th>BsmtCond</th>\n",
       "      <th>BsmtExposure</th>\n",
       "      <th>BsmtFinType1</th>\n",
       "      <th>BsmtFinSF1</th>\n",
       "      <th>BsmtFinType2</th>\n",
       "      <th>BsmtFinSF2</th>\n",
       "      <th>BsmtUnfSF</th>\n",
       "      <th>TotalBsmtSF</th>\n",
       "      <th>Heating</th>\n",
       "      <th>HeatingQC</th>\n",
       "      <th>CentralAir</th>\n",
       "      <th>Electrical</th>\n",
       "      <th>1stFlrSF</th>\n",
       "      <th>2ndFlrSF</th>\n",
       "      <th>LowQualFinSF</th>\n",
       "      <th>GrLivArea</th>\n",
       "      <th>BsmtFullBath</th>\n",
       "      <th>BsmtHalfBath</th>\n",
       "      <th>FullBath</th>\n",
       "      <th>HalfBath</th>\n",
       "      <th>BedroomAbvGr</th>\n",
       "      <th>KitchenAbvGr</th>\n",
       "      <th>KitchenQual</th>\n",
       "      <th>TotRmsAbvGrd</th>\n",
       "      <th>Functional</th>\n",
       "      <th>Fireplaces</th>\n",
       "      <th>FireplaceQu</th>\n",
       "      <th>GarageType</th>\n",
       "      <th>GarageYrBlt</th>\n",
       "      <th>GarageFinish</th>\n",
       "      <th>GarageCars</th>\n",
       "      <th>GarageArea</th>\n",
       "      <th>GarageQual</th>\n",
       "      <th>GarageCond</th>\n",
       "      <th>PavedDrive</th>\n",
       "      <th>WoodDeckSF</th>\n",
       "      <th>OpenPorchSF</th>\n",
       "      <th>EnclosedPorch</th>\n",
       "      <th>3SsnPorch</th>\n",
       "      <th>ScreenPorch</th>\n",
       "      <th>PoolArea</th>\n",
       "      <th>PoolQC</th>\n",
       "      <th>Fence</th>\n",
       "      <th>MiscFeature</th>\n",
       "      <th>MiscVal</th>\n",
       "      <th>MoSold</th>\n",
       "      <th>YrSold</th>\n",
       "      <th>SaleType</th>\n",
       "      <th>SaleCondition</th>\n",
       "    </tr>\n",
       "  </thead>\n",
       "  <tbody>\n",
       "    <tr>\n",
       "      <th>0</th>\n",
       "      <td>1461</td>\n",
       "      <td>20</td>\n",
       "      <td>RH</td>\n",
       "      <td>80.0</td>\n",
       "      <td>11622</td>\n",
       "      <td>Pave</td>\n",
       "      <td>NaN</td>\n",
       "      <td>Reg</td>\n",
       "      <td>Lvl</td>\n",
       "      <td>AllPub</td>\n",
       "      <td>Inside</td>\n",
       "      <td>Gtl</td>\n",
       "      <td>NAmes</td>\n",
       "      <td>Feedr</td>\n",
       "      <td>Norm</td>\n",
       "      <td>1Fam</td>\n",
       "      <td>1Story</td>\n",
       "      <td>5</td>\n",
       "      <td>6</td>\n",
       "      <td>1961</td>\n",
       "      <td>1961</td>\n",
       "      <td>Gable</td>\n",
       "      <td>CompShg</td>\n",
       "      <td>VinylSd</td>\n",
       "      <td>VinylSd</td>\n",
       "      <td>None</td>\n",
       "      <td>0.0</td>\n",
       "      <td>TA</td>\n",
       "      <td>TA</td>\n",
       "      <td>CBlock</td>\n",
       "      <td>TA</td>\n",
       "      <td>TA</td>\n",
       "      <td>No</td>\n",
       "      <td>Rec</td>\n",
       "      <td>468.0</td>\n",
       "      <td>LwQ</td>\n",
       "      <td>144.0</td>\n",
       "      <td>270.0</td>\n",
       "      <td>882.0</td>\n",
       "      <td>GasA</td>\n",
       "      <td>TA</td>\n",
       "      <td>Y</td>\n",
       "      <td>SBrkr</td>\n",
       "      <td>896</td>\n",
       "      <td>0</td>\n",
       "      <td>0</td>\n",
       "      <td>896</td>\n",
       "      <td>0.0</td>\n",
       "      <td>0.0</td>\n",
       "      <td>1</td>\n",
       "      <td>0</td>\n",
       "      <td>2</td>\n",
       "      <td>1</td>\n",
       "      <td>TA</td>\n",
       "      <td>5</td>\n",
       "      <td>Typ</td>\n",
       "      <td>0</td>\n",
       "      <td>NaN</td>\n",
       "      <td>Attchd</td>\n",
       "      <td>1961.0</td>\n",
       "      <td>Unf</td>\n",
       "      <td>1.0</td>\n",
       "      <td>730.0</td>\n",
       "      <td>TA</td>\n",
       "      <td>TA</td>\n",
       "      <td>Y</td>\n",
       "      <td>140</td>\n",
       "      <td>0</td>\n",
       "      <td>0</td>\n",
       "      <td>0</td>\n",
       "      <td>120</td>\n",
       "      <td>0</td>\n",
       "      <td>NaN</td>\n",
       "      <td>MnPrv</td>\n",
       "      <td>NaN</td>\n",
       "      <td>0</td>\n",
       "      <td>6</td>\n",
       "      <td>2010</td>\n",
       "      <td>WD</td>\n",
       "      <td>Normal</td>\n",
       "    </tr>\n",
       "    <tr>\n",
       "      <th>1</th>\n",
       "      <td>1462</td>\n",
       "      <td>20</td>\n",
       "      <td>RL</td>\n",
       "      <td>81.0</td>\n",
       "      <td>14267</td>\n",
       "      <td>Pave</td>\n",
       "      <td>NaN</td>\n",
       "      <td>IR1</td>\n",
       "      <td>Lvl</td>\n",
       "      <td>AllPub</td>\n",
       "      <td>Corner</td>\n",
       "      <td>Gtl</td>\n",
       "      <td>NAmes</td>\n",
       "      <td>Norm</td>\n",
       "      <td>Norm</td>\n",
       "      <td>1Fam</td>\n",
       "      <td>1Story</td>\n",
       "      <td>6</td>\n",
       "      <td>6</td>\n",
       "      <td>1958</td>\n",
       "      <td>1958</td>\n",
       "      <td>Hip</td>\n",
       "      <td>CompShg</td>\n",
       "      <td>Wd Sdng</td>\n",
       "      <td>Wd Sdng</td>\n",
       "      <td>BrkFace</td>\n",
       "      <td>108.0</td>\n",
       "      <td>TA</td>\n",
       "      <td>TA</td>\n",
       "      <td>CBlock</td>\n",
       "      <td>TA</td>\n",
       "      <td>TA</td>\n",
       "      <td>No</td>\n",
       "      <td>ALQ</td>\n",
       "      <td>923.0</td>\n",
       "      <td>Unf</td>\n",
       "      <td>0.0</td>\n",
       "      <td>406.0</td>\n",
       "      <td>1329.0</td>\n",
       "      <td>GasA</td>\n",
       "      <td>TA</td>\n",
       "      <td>Y</td>\n",
       "      <td>SBrkr</td>\n",
       "      <td>1329</td>\n",
       "      <td>0</td>\n",
       "      <td>0</td>\n",
       "      <td>1329</td>\n",
       "      <td>0.0</td>\n",
       "      <td>0.0</td>\n",
       "      <td>1</td>\n",
       "      <td>1</td>\n",
       "      <td>3</td>\n",
       "      <td>1</td>\n",
       "      <td>Gd</td>\n",
       "      <td>6</td>\n",
       "      <td>Typ</td>\n",
       "      <td>0</td>\n",
       "      <td>NaN</td>\n",
       "      <td>Attchd</td>\n",
       "      <td>1958.0</td>\n",
       "      <td>Unf</td>\n",
       "      <td>1.0</td>\n",
       "      <td>312.0</td>\n",
       "      <td>TA</td>\n",
       "      <td>TA</td>\n",
       "      <td>Y</td>\n",
       "      <td>393</td>\n",
       "      <td>36</td>\n",
       "      <td>0</td>\n",
       "      <td>0</td>\n",
       "      <td>0</td>\n",
       "      <td>0</td>\n",
       "      <td>NaN</td>\n",
       "      <td>NaN</td>\n",
       "      <td>Gar2</td>\n",
       "      <td>12500</td>\n",
       "      <td>6</td>\n",
       "      <td>2010</td>\n",
       "      <td>WD</td>\n",
       "      <td>Normal</td>\n",
       "    </tr>\n",
       "    <tr>\n",
       "      <th>2</th>\n",
       "      <td>1463</td>\n",
       "      <td>60</td>\n",
       "      <td>RL</td>\n",
       "      <td>74.0</td>\n",
       "      <td>13830</td>\n",
       "      <td>Pave</td>\n",
       "      <td>NaN</td>\n",
       "      <td>IR1</td>\n",
       "      <td>Lvl</td>\n",
       "      <td>AllPub</td>\n",
       "      <td>Inside</td>\n",
       "      <td>Gtl</td>\n",
       "      <td>Gilbert</td>\n",
       "      <td>Norm</td>\n",
       "      <td>Norm</td>\n",
       "      <td>1Fam</td>\n",
       "      <td>2Story</td>\n",
       "      <td>5</td>\n",
       "      <td>5</td>\n",
       "      <td>1997</td>\n",
       "      <td>1998</td>\n",
       "      <td>Gable</td>\n",
       "      <td>CompShg</td>\n",
       "      <td>VinylSd</td>\n",
       "      <td>VinylSd</td>\n",
       "      <td>None</td>\n",
       "      <td>0.0</td>\n",
       "      <td>TA</td>\n",
       "      <td>TA</td>\n",
       "      <td>PConc</td>\n",
       "      <td>Gd</td>\n",
       "      <td>TA</td>\n",
       "      <td>No</td>\n",
       "      <td>GLQ</td>\n",
       "      <td>791.0</td>\n",
       "      <td>Unf</td>\n",
       "      <td>0.0</td>\n",
       "      <td>137.0</td>\n",
       "      <td>928.0</td>\n",
       "      <td>GasA</td>\n",
       "      <td>Gd</td>\n",
       "      <td>Y</td>\n",
       "      <td>SBrkr</td>\n",
       "      <td>928</td>\n",
       "      <td>701</td>\n",
       "      <td>0</td>\n",
       "      <td>1629</td>\n",
       "      <td>0.0</td>\n",
       "      <td>0.0</td>\n",
       "      <td>2</td>\n",
       "      <td>1</td>\n",
       "      <td>3</td>\n",
       "      <td>1</td>\n",
       "      <td>TA</td>\n",
       "      <td>6</td>\n",
       "      <td>Typ</td>\n",
       "      <td>1</td>\n",
       "      <td>TA</td>\n",
       "      <td>Attchd</td>\n",
       "      <td>1997.0</td>\n",
       "      <td>Fin</td>\n",
       "      <td>2.0</td>\n",
       "      <td>482.0</td>\n",
       "      <td>TA</td>\n",
       "      <td>TA</td>\n",
       "      <td>Y</td>\n",
       "      <td>212</td>\n",
       "      <td>34</td>\n",
       "      <td>0</td>\n",
       "      <td>0</td>\n",
       "      <td>0</td>\n",
       "      <td>0</td>\n",
       "      <td>NaN</td>\n",
       "      <td>MnPrv</td>\n",
       "      <td>NaN</td>\n",
       "      <td>0</td>\n",
       "      <td>3</td>\n",
       "      <td>2010</td>\n",
       "      <td>WD</td>\n",
       "      <td>Normal</td>\n",
       "    </tr>\n",
       "    <tr>\n",
       "      <th>3</th>\n",
       "      <td>1464</td>\n",
       "      <td>60</td>\n",
       "      <td>RL</td>\n",
       "      <td>78.0</td>\n",
       "      <td>9978</td>\n",
       "      <td>Pave</td>\n",
       "      <td>NaN</td>\n",
       "      <td>IR1</td>\n",
       "      <td>Lvl</td>\n",
       "      <td>AllPub</td>\n",
       "      <td>Inside</td>\n",
       "      <td>Gtl</td>\n",
       "      <td>Gilbert</td>\n",
       "      <td>Norm</td>\n",
       "      <td>Norm</td>\n",
       "      <td>1Fam</td>\n",
       "      <td>2Story</td>\n",
       "      <td>6</td>\n",
       "      <td>6</td>\n",
       "      <td>1998</td>\n",
       "      <td>1998</td>\n",
       "      <td>Gable</td>\n",
       "      <td>CompShg</td>\n",
       "      <td>VinylSd</td>\n",
       "      <td>VinylSd</td>\n",
       "      <td>BrkFace</td>\n",
       "      <td>20.0</td>\n",
       "      <td>TA</td>\n",
       "      <td>TA</td>\n",
       "      <td>PConc</td>\n",
       "      <td>TA</td>\n",
       "      <td>TA</td>\n",
       "      <td>No</td>\n",
       "      <td>GLQ</td>\n",
       "      <td>602.0</td>\n",
       "      <td>Unf</td>\n",
       "      <td>0.0</td>\n",
       "      <td>324.0</td>\n",
       "      <td>926.0</td>\n",
       "      <td>GasA</td>\n",
       "      <td>Ex</td>\n",
       "      <td>Y</td>\n",
       "      <td>SBrkr</td>\n",
       "      <td>926</td>\n",
       "      <td>678</td>\n",
       "      <td>0</td>\n",
       "      <td>1604</td>\n",
       "      <td>0.0</td>\n",
       "      <td>0.0</td>\n",
       "      <td>2</td>\n",
       "      <td>1</td>\n",
       "      <td>3</td>\n",
       "      <td>1</td>\n",
       "      <td>Gd</td>\n",
       "      <td>7</td>\n",
       "      <td>Typ</td>\n",
       "      <td>1</td>\n",
       "      <td>Gd</td>\n",
       "      <td>Attchd</td>\n",
       "      <td>1998.0</td>\n",
       "      <td>Fin</td>\n",
       "      <td>2.0</td>\n",
       "      <td>470.0</td>\n",
       "      <td>TA</td>\n",
       "      <td>TA</td>\n",
       "      <td>Y</td>\n",
       "      <td>360</td>\n",
       "      <td>36</td>\n",
       "      <td>0</td>\n",
       "      <td>0</td>\n",
       "      <td>0</td>\n",
       "      <td>0</td>\n",
       "      <td>NaN</td>\n",
       "      <td>NaN</td>\n",
       "      <td>NaN</td>\n",
       "      <td>0</td>\n",
       "      <td>6</td>\n",
       "      <td>2010</td>\n",
       "      <td>WD</td>\n",
       "      <td>Normal</td>\n",
       "    </tr>\n",
       "    <tr>\n",
       "      <th>4</th>\n",
       "      <td>1465</td>\n",
       "      <td>120</td>\n",
       "      <td>RL</td>\n",
       "      <td>43.0</td>\n",
       "      <td>5005</td>\n",
       "      <td>Pave</td>\n",
       "      <td>NaN</td>\n",
       "      <td>IR1</td>\n",
       "      <td>HLS</td>\n",
       "      <td>AllPub</td>\n",
       "      <td>Inside</td>\n",
       "      <td>Gtl</td>\n",
       "      <td>StoneBr</td>\n",
       "      <td>Norm</td>\n",
       "      <td>Norm</td>\n",
       "      <td>TwnhsE</td>\n",
       "      <td>1Story</td>\n",
       "      <td>8</td>\n",
       "      <td>5</td>\n",
       "      <td>1992</td>\n",
       "      <td>1992</td>\n",
       "      <td>Gable</td>\n",
       "      <td>CompShg</td>\n",
       "      <td>HdBoard</td>\n",
       "      <td>HdBoard</td>\n",
       "      <td>None</td>\n",
       "      <td>0.0</td>\n",
       "      <td>Gd</td>\n",
       "      <td>TA</td>\n",
       "      <td>PConc</td>\n",
       "      <td>Gd</td>\n",
       "      <td>TA</td>\n",
       "      <td>No</td>\n",
       "      <td>ALQ</td>\n",
       "      <td>263.0</td>\n",
       "      <td>Unf</td>\n",
       "      <td>0.0</td>\n",
       "      <td>1017.0</td>\n",
       "      <td>1280.0</td>\n",
       "      <td>GasA</td>\n",
       "      <td>Ex</td>\n",
       "      <td>Y</td>\n",
       "      <td>SBrkr</td>\n",
       "      <td>1280</td>\n",
       "      <td>0</td>\n",
       "      <td>0</td>\n",
       "      <td>1280</td>\n",
       "      <td>0.0</td>\n",
       "      <td>0.0</td>\n",
       "      <td>2</td>\n",
       "      <td>0</td>\n",
       "      <td>2</td>\n",
       "      <td>1</td>\n",
       "      <td>Gd</td>\n",
       "      <td>5</td>\n",
       "      <td>Typ</td>\n",
       "      <td>0</td>\n",
       "      <td>NaN</td>\n",
       "      <td>Attchd</td>\n",
       "      <td>1992.0</td>\n",
       "      <td>RFn</td>\n",
       "      <td>2.0</td>\n",
       "      <td>506.0</td>\n",
       "      <td>TA</td>\n",
       "      <td>TA</td>\n",
       "      <td>Y</td>\n",
       "      <td>0</td>\n",
       "      <td>82</td>\n",
       "      <td>0</td>\n",
       "      <td>0</td>\n",
       "      <td>144</td>\n",
       "      <td>0</td>\n",
       "      <td>NaN</td>\n",
       "      <td>NaN</td>\n",
       "      <td>NaN</td>\n",
       "      <td>0</td>\n",
       "      <td>1</td>\n",
       "      <td>2010</td>\n",
       "      <td>WD</td>\n",
       "      <td>Normal</td>\n",
       "    </tr>\n",
       "  </tbody>\n",
       "</table>\n",
       "</div>"
      ],
      "text/plain": [
       "     Id  MSSubClass MSZoning  LotFrontage  LotArea Street Alley LotShape  \\\n",
       "0  1461          20       RH         80.0    11622   Pave   NaN      Reg   \n",
       "1  1462          20       RL         81.0    14267   Pave   NaN      IR1   \n",
       "2  1463          60       RL         74.0    13830   Pave   NaN      IR1   \n",
       "3  1464          60       RL         78.0     9978   Pave   NaN      IR1   \n",
       "4  1465         120       RL         43.0     5005   Pave   NaN      IR1   \n",
       "\n",
       "  LandContour Utilities LotConfig LandSlope Neighborhood Condition1  \\\n",
       "0         Lvl    AllPub    Inside       Gtl        NAmes      Feedr   \n",
       "1         Lvl    AllPub    Corner       Gtl        NAmes       Norm   \n",
       "2         Lvl    AllPub    Inside       Gtl      Gilbert       Norm   \n",
       "3         Lvl    AllPub    Inside       Gtl      Gilbert       Norm   \n",
       "4         HLS    AllPub    Inside       Gtl      StoneBr       Norm   \n",
       "\n",
       "  Condition2 BldgType HouseStyle  OverallQual  OverallCond  YearBuilt  \\\n",
       "0       Norm     1Fam     1Story            5            6       1961   \n",
       "1       Norm     1Fam     1Story            6            6       1958   \n",
       "2       Norm     1Fam     2Story            5            5       1997   \n",
       "3       Norm     1Fam     2Story            6            6       1998   \n",
       "4       Norm   TwnhsE     1Story            8            5       1992   \n",
       "\n",
       "   YearRemodAdd RoofStyle RoofMatl Exterior1st Exterior2nd MasVnrType  \\\n",
       "0          1961     Gable  CompShg     VinylSd     VinylSd       None   \n",
       "1          1958       Hip  CompShg     Wd Sdng     Wd Sdng    BrkFace   \n",
       "2          1998     Gable  CompShg     VinylSd     VinylSd       None   \n",
       "3          1998     Gable  CompShg     VinylSd     VinylSd    BrkFace   \n",
       "4          1992     Gable  CompShg     HdBoard     HdBoard       None   \n",
       "\n",
       "   MasVnrArea ExterQual ExterCond Foundation BsmtQual BsmtCond BsmtExposure  \\\n",
       "0         0.0        TA        TA     CBlock       TA       TA           No   \n",
       "1       108.0        TA        TA     CBlock       TA       TA           No   \n",
       "2         0.0        TA        TA      PConc       Gd       TA           No   \n",
       "3        20.0        TA        TA      PConc       TA       TA           No   \n",
       "4         0.0        Gd        TA      PConc       Gd       TA           No   \n",
       "\n",
       "  BsmtFinType1  BsmtFinSF1 BsmtFinType2  BsmtFinSF2  BsmtUnfSF  TotalBsmtSF  \\\n",
       "0          Rec       468.0          LwQ       144.0      270.0        882.0   \n",
       "1          ALQ       923.0          Unf         0.0      406.0       1329.0   \n",
       "2          GLQ       791.0          Unf         0.0      137.0        928.0   \n",
       "3          GLQ       602.0          Unf         0.0      324.0        926.0   \n",
       "4          ALQ       263.0          Unf         0.0     1017.0       1280.0   \n",
       "\n",
       "  Heating HeatingQC CentralAir Electrical  1stFlrSF  2ndFlrSF  LowQualFinSF  \\\n",
       "0    GasA        TA          Y      SBrkr       896         0             0   \n",
       "1    GasA        TA          Y      SBrkr      1329         0             0   \n",
       "2    GasA        Gd          Y      SBrkr       928       701             0   \n",
       "3    GasA        Ex          Y      SBrkr       926       678             0   \n",
       "4    GasA        Ex          Y      SBrkr      1280         0             0   \n",
       "\n",
       "   GrLivArea  BsmtFullBath  BsmtHalfBath  FullBath  HalfBath  BedroomAbvGr  \\\n",
       "0        896           0.0           0.0         1         0             2   \n",
       "1       1329           0.0           0.0         1         1             3   \n",
       "2       1629           0.0           0.0         2         1             3   \n",
       "3       1604           0.0           0.0         2         1             3   \n",
       "4       1280           0.0           0.0         2         0             2   \n",
       "\n",
       "   KitchenAbvGr KitchenQual  TotRmsAbvGrd Functional  Fireplaces FireplaceQu  \\\n",
       "0             1          TA             5        Typ           0         NaN   \n",
       "1             1          Gd             6        Typ           0         NaN   \n",
       "2             1          TA             6        Typ           1          TA   \n",
       "3             1          Gd             7        Typ           1          Gd   \n",
       "4             1          Gd             5        Typ           0         NaN   \n",
       "\n",
       "  GarageType  GarageYrBlt GarageFinish  GarageCars  GarageArea GarageQual  \\\n",
       "0     Attchd       1961.0          Unf         1.0       730.0         TA   \n",
       "1     Attchd       1958.0          Unf         1.0       312.0         TA   \n",
       "2     Attchd       1997.0          Fin         2.0       482.0         TA   \n",
       "3     Attchd       1998.0          Fin         2.0       470.0         TA   \n",
       "4     Attchd       1992.0          RFn         2.0       506.0         TA   \n",
       "\n",
       "  GarageCond PavedDrive  WoodDeckSF  OpenPorchSF  EnclosedPorch  3SsnPorch  \\\n",
       "0         TA          Y         140            0              0          0   \n",
       "1         TA          Y         393           36              0          0   \n",
       "2         TA          Y         212           34              0          0   \n",
       "3         TA          Y         360           36              0          0   \n",
       "4         TA          Y           0           82              0          0   \n",
       "\n",
       "   ScreenPorch  PoolArea PoolQC  Fence MiscFeature  MiscVal  MoSold  YrSold  \\\n",
       "0          120         0    NaN  MnPrv         NaN        0       6    2010   \n",
       "1            0         0    NaN    NaN        Gar2    12500       6    2010   \n",
       "2            0         0    NaN  MnPrv         NaN        0       3    2010   \n",
       "3            0         0    NaN    NaN         NaN        0       6    2010   \n",
       "4          144         0    NaN    NaN         NaN        0       1    2010   \n",
       "\n",
       "  SaleType SaleCondition  \n",
       "0       WD        Normal  \n",
       "1       WD        Normal  \n",
       "2       WD        Normal  \n",
       "3       WD        Normal  \n",
       "4       WD        Normal  "
      ]
     },
     "execution_count": 903,
     "metadata": {},
     "output_type": "execute_result"
    }
   ],
   "source": [
    "test.head()"
   ]
  },
  {
   "cell_type": "code",
   "execution_count": null,
   "metadata": {
    "collapsed": true
   },
   "outputs": [],
   "source": []
  },
  {
   "cell_type": "markdown",
   "metadata": {},
   "source": [
    "## Clean data"
   ]
  },
  {
   "cell_type": "code",
   "execution_count": 554,
   "metadata": {
    "_cell_guid": "cb2d88d7-7f76-4b04-d28b-d2c315ae4346",
    "collapsed": true
   },
   "outputs": [],
   "source": [
    "#log transform the target:\n",
    "y=list(train['SalePrice'])\n",
    "y = np.log1p(y)\n",
    "all_data = pd.concat((train,\n",
    "                      test)).drop(['SalePrice','Id'],axis = 1)\n",
    "#combine both data set to clean data"
   ]
  },
  {
   "cell_type": "code",
   "execution_count": 555,
   "metadata": {
    "collapsed": true
   },
   "outputs": [],
   "source": [
    "all_data['MSSubClass'] = all_data['MSSubClass'].astype(str).astype(object)\n",
    "#MSSubClass should be a categorical column"
   ]
  },
  {
   "cell_type": "code",
   "execution_count": 556,
   "metadata": {
    "collapsed": true
   },
   "outputs": [],
   "source": [
    "#log transform skewed numeric features:\n",
    "numeric_feats = all_data.dtypes[all_data.dtypes != \"object\"].index\n",
    "\n",
    "skewed_feats = all_data[numeric_feats].apply(lambda x: skew(x.dropna())) #compute skewness\n",
    "skewed_feats = skewed_feats[skewed_feats > 0.75]\n",
    "skewed_feats = skewed_feats.index\n",
    "\n",
    "all_data[skewed_feats] = np.log1p(all_data[skewed_feats])"
   ]
  },
  {
   "cell_type": "code",
   "execution_count": 557,
   "metadata": {
    "collapsed": true
   },
   "outputs": [],
   "source": [
    "Dict = {\"No\": 0, \"Po\": 1, \"Fa\": 2, \"TA\": 3, \"Gd\": 4, \"Ex\": 5,\n",
    "             \"Mn\": 2, \"Av\": 3, \n",
    "             \"Unf\": 1, \"LwQ\": 2, \"Rec\": 3, \"BLQ\": 4, \"ALQ\": 5, \"GLQ\": 6,\n",
    "             \"Sal\": 1, \"Sev\": 2, \"Maj2\": 3, \"Maj1\": 4, \"Mod\": 5, \"Min2\": 6, \"Min1\": 7, \"Typ\": 8,\n",
    "             \"RFn\": 2, \"Fin\": 3,\n",
    "             \"MnWw\": 1, \"GdWo\": 2, \"MnPrv\": 3, \"GdPrv\": 4,\n",
    "             \"N\": 0, \"Y\": 1, np.nan:0\n",
    "            }\n",
    "\n",
    "for col in ['ExterQual', 'ExterCond', 'BsmtQual', 'BsmtCond', 'HeatingQC', \n",
    "          'KitchenQual', 'FireplaceQu', 'GarageQual', 'GarageCond',\n",
    "          'BsmtFinType1', 'BsmtFinType2', 'Functional', 'GarageFinish', 'Fence', \n",
    "          'CentralAir']:\n",
    "\n",
    "        all_data[col] = all_data[col].map(Dict).astype(int)"
   ]
  },
  {
   "cell_type": "code",
   "execution_count": 558,
   "metadata": {
    "collapsed": true
   },
   "outputs": [],
   "source": [
    "all_data = all_data.fillna({\n",
    "    'Alley' : 'NoAlley',\n",
    "    'MasVnrType': 'None',\n",
    "    'FireplaceQu': 'NoFireplace',\n",
    "    'GarageType': 'NoGarage',\n",
    "    'GarageFinish': 'NoGarage',\n",
    "    'GarageQual': 'NoGarage',\n",
    "    'GarageCond': 'NoGarage',\n",
    "    'BsmtFullBath': 0,\n",
    "    'BsmtHalfBath': 0,\n",
    "    'BsmtQual' : 'NoBsmt',\n",
    "    'BsmtCond' : 'NoBsmt',\n",
    "    'BsmtExposure' : 'NoBsmt',\n",
    "    'BsmtFinType1' : 'NoBsmt',\n",
    "    'BsmtFinType2' : 'NoBsmt',\n",
    "    'KitchenQual' : 'TA',\n",
    "    'MSZoning' : 'RL',\n",
    "    'Utilities' : 'AllPub',\n",
    "    'Exterior1st' : 'VinylSd',\n",
    "    'Exterior2nd'   : 'VinylSd',\n",
    "    'Functional' : 'Typ',\n",
    "    'PoolQC' : 'NoPool',\n",
    "    'Fence' : 'NoFence',\n",
    "    'MiscFeature' : 'None',\n",
    "    'Electrical' : 'SBrkr'\n",
    "     \n",
    "})\n",
    "\n",
    "\n",
    "all_data.loc[all_data.SaleCondition.isnull(), 'SaleCondition'] = 'Normal'\n",
    "all_data.loc[all_data.SaleCondition.isnull(), 'SaleType'] = 'WD'\n",
    "all_data.loc[all_data.MasVnrType == 'None', 'MasVnrArea'] = 0\n",
    "\n",
    "all_data.loc[all_data.BsmtFinSF1.isnull(), 'BsmtFinSF1'] = all_data.BsmtFinSF1.median()\n",
    "all_data.loc[all_data.BsmtUnfSF.isnull(), 'BsmtUnfSF'] = all_data.BsmtUnfSF.median()\n",
    "\n",
    "\n",
    "\n",
    "\n",
    "\n",
    "\n",
    "# only one is null and it has type Detchd\n",
    "all_data.loc[all_data['GarageArea'].isnull(), 'GarageArea'] = all_data.loc[all_data['GarageType']=='Detchd', 'GarageArea'].mean()\n",
    "all_data.loc[all_data['GarageCars'].isnull(), 'GarageCars'] = all_data.loc[all_data['GarageType']=='Detchd', 'GarageCars'].median()"
   ]
  },
  {
   "cell_type": "code",
   "execution_count": 559,
   "metadata": {
    "collapsed": true
   },
   "outputs": [],
   "source": [
    "#drop predictor according to Shu's code\n",
    "all_data = all_data.drop(['Street','Utilities','Condition2','RoofMatl',\n",
    "                         'LowQualFinSF','3SsnPorch','PoolArea','PoolQC','MiscVal','GarageYrBlt'],axis = 1)"
   ]
  },
  {
   "cell_type": "code",
   "execution_count": 560,
   "metadata": {
    "collapsed": true
   },
   "outputs": [],
   "source": [
    "#warnings.simplefilter('ignore', np.RankWarning)\n",
    "# I have no idea how to do it better. Probably, it is better to do nothing\n",
    "a1 = all_data.loc[np.logical_not(all_data[\"LotFrontage\"].isnull()), \"LotArea\"]\n",
    "a2 = all_data.loc[np.logical_not(all_data[\"LotFrontage\"].isnull()), \"LotFrontage\"]\n",
    "# plt.scatter(x, y)\n",
    "t = (a1 <= 25000) & (a2 <= 150)\n",
    "p = np.polyfit(a1[t], a2[t], 1)\n",
    "all_data.loc[all_data['LotFrontage'].isnull(), 'LotFrontage'] = np.polyval(p, all_data.loc[all_data['LotFrontage'].isnull(), 'LotArea'])"
   ]
  },
  {
   "cell_type": "code",
   "execution_count": 887,
   "metadata": {
    "collapsed": true,
    "scrolled": true
   },
   "outputs": [],
   "source": [
    "all_data['BsmtFinSF2'].fillna(0,inplace = True)\n",
    "all_data['TotalBsmtSF'].fillna(0,inplace = True)\n",
    "# all_data.isnull().sum()  TotalBsmtSF"
   ]
  },
  {
   "cell_type": "code",
   "execution_count": 888,
   "metadata": {},
   "outputs": [
    {
     "data": {
      "text/plain": [
       "1stFlrSF                 False\n",
       "2ndFlrSF                 False\n",
       "BedroomAbvGr             False\n",
       "BsmtCond                 False\n",
       "BsmtFinSF1               False\n",
       "BsmtFinSF2               False\n",
       "BsmtFinType1             False\n",
       "BsmtFinType2             False\n",
       "BsmtFullBath             False\n",
       "BsmtHalfBath             False\n",
       "BsmtQual                 False\n",
       "BsmtUnfSF                False\n",
       "CentralAir               False\n",
       "EnclosedPorch            False\n",
       "ExterCond                False\n",
       "ExterQual                False\n",
       "Fence                    False\n",
       "FireplaceQu              False\n",
       "Fireplaces               False\n",
       "FullBath                 False\n",
       "Functional               False\n",
       "GarageArea               False\n",
       "GarageCars               False\n",
       "GarageCond               False\n",
       "GarageFinish             False\n",
       "GarageQual               False\n",
       "GrLivArea                False\n",
       "HalfBath                 False\n",
       "HeatingQC                False\n",
       "KitchenAbvGr             False\n",
       "KitchenQual              False\n",
       "LotArea                  False\n",
       "LotFrontage              False\n",
       "MasVnrArea               False\n",
       "MoSold                   False\n",
       "OpenPorchSF              False\n",
       "OverallCond              False\n",
       "OverallQual              False\n",
       "ScreenPorch              False\n",
       "TotRmsAbvGrd             False\n",
       "TotalBsmtSF              False\n",
       "WoodDeckSF               False\n",
       "YearBuilt                False\n",
       "YearRemodAdd             False\n",
       "YrSold                   False\n",
       "Alley_Grvl               False\n",
       "Alley_NoAlley            False\n",
       "Alley_Pave               False\n",
       "BldgType_1Fam            False\n",
       "BldgType_2fmCon          False\n",
       "BldgType_Duplex          False\n",
       "BldgType_Twnhs           False\n",
       "BldgType_TwnhsE          False\n",
       "BsmtExposure_Av          False\n",
       "BsmtExposure_Gd          False\n",
       "BsmtExposure_Mn          False\n",
       "BsmtExposure_No          False\n",
       "BsmtExposure_NoBsmt      False\n",
       "Condition1_Artery        False\n",
       "Condition1_Feedr         False\n",
       "Condition1_Norm          False\n",
       "Condition1_PosA          False\n",
       "Condition1_PosN          False\n",
       "Condition1_RRAe          False\n",
       "Condition1_RRAn          False\n",
       "Condition1_RRNe          False\n",
       "Condition1_RRNn          False\n",
       "Electrical_FuseA         False\n",
       "Electrical_FuseF         False\n",
       "Electrical_FuseP         False\n",
       "Electrical_Mix           False\n",
       "Electrical_SBrkr         False\n",
       "Exterior1st_AsbShng      False\n",
       "Exterior1st_AsphShn      False\n",
       "Exterior1st_BrkComm      False\n",
       "Exterior1st_BrkFace      False\n",
       "Exterior1st_CBlock       False\n",
       "Exterior1st_CemntBd      False\n",
       "Exterior1st_HdBoard      False\n",
       "Exterior1st_ImStucc      False\n",
       "Exterior1st_MetalSd      False\n",
       "Exterior1st_Plywood      False\n",
       "Exterior1st_Stone        False\n",
       "Exterior1st_Stucco       False\n",
       "Exterior1st_VinylSd      False\n",
       "Exterior1st_Wd Sdng      False\n",
       "Exterior1st_WdShing      False\n",
       "Exterior2nd_AsbShng      False\n",
       "Exterior2nd_AsphShn      False\n",
       "Exterior2nd_Brk Cmn      False\n",
       "Exterior2nd_BrkFace      False\n",
       "Exterior2nd_CBlock       False\n",
       "Exterior2nd_CmentBd      False\n",
       "Exterior2nd_HdBoard      False\n",
       "Exterior2nd_ImStucc      False\n",
       "Exterior2nd_MetalSd      False\n",
       "Exterior2nd_Other        False\n",
       "Exterior2nd_Plywood      False\n",
       "Exterior2nd_Stone        False\n",
       "Exterior2nd_Stucco       False\n",
       "Exterior2nd_VinylSd      False\n",
       "Exterior2nd_Wd Sdng      False\n",
       "Exterior2nd_Wd Shng      False\n",
       "Foundation_BrkTil        False\n",
       "Foundation_CBlock        False\n",
       "Foundation_PConc         False\n",
       "Foundation_Slab          False\n",
       "Foundation_Stone         False\n",
       "Foundation_Wood          False\n",
       "GarageType_2Types        False\n",
       "GarageType_Attchd        False\n",
       "GarageType_Basment       False\n",
       "GarageType_BuiltIn       False\n",
       "GarageType_CarPort       False\n",
       "GarageType_Detchd        False\n",
       "GarageType_NoGarage      False\n",
       "Heating_Floor            False\n",
       "Heating_GasA             False\n",
       "Heating_GasW             False\n",
       "Heating_Grav             False\n",
       "Heating_OthW             False\n",
       "Heating_Wall             False\n",
       "HouseStyle_1.5Fin        False\n",
       "HouseStyle_1.5Unf        False\n",
       "HouseStyle_1Story        False\n",
       "HouseStyle_2.5Fin        False\n",
       "HouseStyle_2.5Unf        False\n",
       "HouseStyle_2Story        False\n",
       "HouseStyle_SFoyer        False\n",
       "HouseStyle_SLvl          False\n",
       "LandContour_Bnk          False\n",
       "LandContour_HLS          False\n",
       "LandContour_Low          False\n",
       "LandContour_Lvl          False\n",
       "LandSlope_Gtl            False\n",
       "LandSlope_Mod            False\n",
       "LandSlope_Sev            False\n",
       "LotConfig_Corner         False\n",
       "LotConfig_CulDSac        False\n",
       "LotConfig_FR2            False\n",
       "LotConfig_FR3            False\n",
       "LotConfig_Inside         False\n",
       "LotShape_IR1             False\n",
       "LotShape_IR2             False\n",
       "LotShape_IR3             False\n",
       "LotShape_Reg             False\n",
       "MSSubClass_120           False\n",
       "MSSubClass_150           False\n",
       "MSSubClass_160           False\n",
       "MSSubClass_180           False\n",
       "MSSubClass_190           False\n",
       "MSSubClass_20            False\n",
       "MSSubClass_30            False\n",
       "MSSubClass_40            False\n",
       "MSSubClass_45            False\n",
       "MSSubClass_50            False\n",
       "MSSubClass_60            False\n",
       "MSSubClass_70            False\n",
       "MSSubClass_75            False\n",
       "MSSubClass_80            False\n",
       "MSSubClass_85            False\n",
       "MSSubClass_90            False\n",
       "MSZoning_C (all)         False\n",
       "MSZoning_FV              False\n",
       "MSZoning_RH              False\n",
       "MSZoning_RL              False\n",
       "MSZoning_RM              False\n",
       "MasVnrType_BrkCmn        False\n",
       "MasVnrType_BrkFace       False\n",
       "MasVnrType_None          False\n",
       "MasVnrType_Stone         False\n",
       "MiscFeature_Gar2         False\n",
       "MiscFeature_None         False\n",
       "MiscFeature_Othr         False\n",
       "MiscFeature_Shed         False\n",
       "MiscFeature_TenC         False\n",
       "Neighborhood_Blmngtn     False\n",
       "Neighborhood_Blueste     False\n",
       "Neighborhood_BrDale      False\n",
       "Neighborhood_BrkSide     False\n",
       "Neighborhood_ClearCr     False\n",
       "Neighborhood_CollgCr     False\n",
       "Neighborhood_Crawfor     False\n",
       "Neighborhood_Edwards     False\n",
       "Neighborhood_Gilbert     False\n",
       "Neighborhood_IDOTRR      False\n",
       "Neighborhood_MeadowV     False\n",
       "Neighborhood_Mitchel     False\n",
       "Neighborhood_NAmes       False\n",
       "Neighborhood_NPkVill     False\n",
       "Neighborhood_NWAmes      False\n",
       "Neighborhood_NoRidge     False\n",
       "Neighborhood_NridgHt     False\n",
       "Neighborhood_OldTown     False\n",
       "Neighborhood_SWISU       False\n",
       "Neighborhood_Sawyer      False\n",
       "Neighborhood_SawyerW     False\n",
       "Neighborhood_Somerst     False\n",
       "Neighborhood_StoneBr     False\n",
       "Neighborhood_Timber      False\n",
       "Neighborhood_Veenker     False\n",
       "PavedDrive_N             False\n",
       "PavedDrive_P             False\n",
       "PavedDrive_Y             False\n",
       "RoofStyle_Flat           False\n",
       "RoofStyle_Gable          False\n",
       "RoofStyle_Gambrel        False\n",
       "RoofStyle_Hip            False\n",
       "RoofStyle_Mansard        False\n",
       "RoofStyle_Shed           False\n",
       "SaleCondition_Abnorml    False\n",
       "SaleCondition_AdjLand    False\n",
       "SaleCondition_Alloca     False\n",
       "SaleCondition_Family     False\n",
       "SaleCondition_Normal     False\n",
       "SaleCondition_Partial    False\n",
       "SaleType_COD             False\n",
       "SaleType_CWD             False\n",
       "SaleType_Con             False\n",
       "SaleType_ConLD           False\n",
       "SaleType_ConLI           False\n",
       "SaleType_ConLw           False\n",
       "SaleType_New             False\n",
       "SaleType_Oth             False\n",
       "SaleType_WD              False\n",
       "dtype: bool"
      ]
     },
     "execution_count": 888,
     "metadata": {},
     "output_type": "execute_result"
    }
   ],
   "source": [
    "all_data.isnull().any()"
   ]
  },
  {
   "cell_type": "code",
   "execution_count": 883,
   "metadata": {
    "scrolled": true
   },
   "outputs": [
    {
     "data": {
      "text/plain": [
       "1stFlrSF                 True\n",
       "2ndFlrSF                 True\n",
       "BedroomAbvGr             True\n",
       "BsmtCond                 True\n",
       "BsmtFinSF1               True\n",
       "BsmtFinSF2               True\n",
       "BsmtFinType1             True\n",
       "BsmtFinType2             True\n",
       "BsmtFullBath             True\n",
       "BsmtHalfBath             True\n",
       "BsmtQual                 True\n",
       "BsmtUnfSF                True\n",
       "CentralAir               True\n",
       "EnclosedPorch            True\n",
       "ExterCond                True\n",
       "ExterQual                True\n",
       "Fence                    True\n",
       "FireplaceQu              True\n",
       "Fireplaces               True\n",
       "FullBath                 True\n",
       "Functional               True\n",
       "GarageArea               True\n",
       "GarageCars               True\n",
       "GarageCond               True\n",
       "GarageFinish             True\n",
       "GarageQual               True\n",
       "GrLivArea                True\n",
       "HalfBath                 True\n",
       "HeatingQC                True\n",
       "KitchenAbvGr             True\n",
       "KitchenQual              True\n",
       "LotArea                  True\n",
       "LotFrontage              True\n",
       "MasVnrArea               True\n",
       "MoSold                   True\n",
       "OpenPorchSF              True\n",
       "OverallCond              True\n",
       "OverallQual              True\n",
       "ScreenPorch              True\n",
       "TotRmsAbvGrd             True\n",
       "TotalBsmtSF              True\n",
       "WoodDeckSF               True\n",
       "YearBuilt                True\n",
       "YearRemodAdd             True\n",
       "YrSold                   True\n",
       "Alley_Grvl               True\n",
       "Alley_NoAlley            True\n",
       "Alley_Pave               True\n",
       "BldgType_1Fam            True\n",
       "BldgType_2fmCon          True\n",
       "BldgType_Duplex          True\n",
       "BldgType_Twnhs           True\n",
       "BldgType_TwnhsE          True\n",
       "BsmtExposure_Av          True\n",
       "BsmtExposure_Gd          True\n",
       "BsmtExposure_Mn          True\n",
       "BsmtExposure_No          True\n",
       "BsmtExposure_NoBsmt      True\n",
       "Condition1_Artery        True\n",
       "Condition1_Feedr         True\n",
       "Condition1_Norm          True\n",
       "Condition1_PosA          True\n",
       "Condition1_PosN          True\n",
       "Condition1_RRAe          True\n",
       "Condition1_RRAn          True\n",
       "Condition1_RRNe          True\n",
       "Condition1_RRNn          True\n",
       "Electrical_FuseA         True\n",
       "Electrical_FuseF         True\n",
       "Electrical_FuseP         True\n",
       "Electrical_Mix           True\n",
       "Electrical_SBrkr         True\n",
       "Exterior1st_AsbShng      True\n",
       "Exterior1st_AsphShn      True\n",
       "Exterior1st_BrkComm      True\n",
       "Exterior1st_BrkFace      True\n",
       "Exterior1st_CBlock       True\n",
       "Exterior1st_CemntBd      True\n",
       "Exterior1st_HdBoard      True\n",
       "Exterior1st_ImStucc      True\n",
       "Exterior1st_MetalSd      True\n",
       "Exterior1st_Plywood      True\n",
       "Exterior1st_Stone        True\n",
       "Exterior1st_Stucco       True\n",
       "Exterior1st_VinylSd      True\n",
       "Exterior1st_Wd Sdng      True\n",
       "Exterior1st_WdShing      True\n",
       "Exterior2nd_AsbShng      True\n",
       "Exterior2nd_AsphShn      True\n",
       "Exterior2nd_Brk Cmn      True\n",
       "Exterior2nd_BrkFace      True\n",
       "Exterior2nd_CBlock       True\n",
       "Exterior2nd_CmentBd      True\n",
       "Exterior2nd_HdBoard      True\n",
       "Exterior2nd_ImStucc      True\n",
       "Exterior2nd_MetalSd      True\n",
       "Exterior2nd_Other        True\n",
       "Exterior2nd_Plywood      True\n",
       "Exterior2nd_Stone        True\n",
       "Exterior2nd_Stucco       True\n",
       "Exterior2nd_VinylSd      True\n",
       "Exterior2nd_Wd Sdng      True\n",
       "Exterior2nd_Wd Shng      True\n",
       "Foundation_BrkTil        True\n",
       "Foundation_CBlock        True\n",
       "Foundation_PConc         True\n",
       "Foundation_Slab          True\n",
       "Foundation_Stone         True\n",
       "Foundation_Wood          True\n",
       "GarageType_2Types        True\n",
       "GarageType_Attchd        True\n",
       "GarageType_Basment       True\n",
       "GarageType_BuiltIn       True\n",
       "GarageType_CarPort       True\n",
       "GarageType_Detchd        True\n",
       "GarageType_NoGarage      True\n",
       "Heating_Floor            True\n",
       "Heating_GasA             True\n",
       "Heating_GasW             True\n",
       "Heating_Grav             True\n",
       "Heating_OthW             True\n",
       "Heating_Wall             True\n",
       "HouseStyle_1.5Fin        True\n",
       "HouseStyle_1.5Unf        True\n",
       "HouseStyle_1Story        True\n",
       "HouseStyle_2.5Fin        True\n",
       "HouseStyle_2.5Unf        True\n",
       "HouseStyle_2Story        True\n",
       "HouseStyle_SFoyer        True\n",
       "HouseStyle_SLvl          True\n",
       "LandContour_Bnk          True\n",
       "LandContour_HLS          True\n",
       "LandContour_Low          True\n",
       "LandContour_Lvl          True\n",
       "LandSlope_Gtl            True\n",
       "LandSlope_Mod            True\n",
       "LandSlope_Sev            True\n",
       "LotConfig_Corner         True\n",
       "LotConfig_CulDSac        True\n",
       "LotConfig_FR2            True\n",
       "LotConfig_FR3            True\n",
       "LotConfig_Inside         True\n",
       "LotShape_IR1             True\n",
       "LotShape_IR2             True\n",
       "LotShape_IR3             True\n",
       "LotShape_Reg             True\n",
       "MSSubClass_120           True\n",
       "MSSubClass_150           True\n",
       "MSSubClass_160           True\n",
       "MSSubClass_180           True\n",
       "MSSubClass_190           True\n",
       "MSSubClass_20            True\n",
       "MSSubClass_30            True\n",
       "MSSubClass_40            True\n",
       "MSSubClass_45            True\n",
       "MSSubClass_50            True\n",
       "MSSubClass_60            True\n",
       "MSSubClass_70            True\n",
       "MSSubClass_75            True\n",
       "MSSubClass_80            True\n",
       "MSSubClass_85            True\n",
       "MSSubClass_90            True\n",
       "MSZoning_C (all)         True\n",
       "MSZoning_FV              True\n",
       "MSZoning_RH              True\n",
       "MSZoning_RL              True\n",
       "MSZoning_RM              True\n",
       "MasVnrType_BrkCmn        True\n",
       "MasVnrType_BrkFace       True\n",
       "MasVnrType_None          True\n",
       "MasVnrType_Stone         True\n",
       "MiscFeature_Gar2         True\n",
       "MiscFeature_None         True\n",
       "MiscFeature_Othr         True\n",
       "MiscFeature_Shed         True\n",
       "MiscFeature_TenC         True\n",
       "Neighborhood_Blmngtn     True\n",
       "Neighborhood_Blueste     True\n",
       "Neighborhood_BrDale      True\n",
       "Neighborhood_BrkSide     True\n",
       "Neighborhood_ClearCr     True\n",
       "Neighborhood_CollgCr     True\n",
       "Neighborhood_Crawfor     True\n",
       "Neighborhood_Edwards     True\n",
       "Neighborhood_Gilbert     True\n",
       "Neighborhood_IDOTRR      True\n",
       "Neighborhood_MeadowV     True\n",
       "Neighborhood_Mitchel     True\n",
       "Neighborhood_NAmes       True\n",
       "Neighborhood_NPkVill     True\n",
       "Neighborhood_NWAmes      True\n",
       "Neighborhood_NoRidge     True\n",
       "Neighborhood_NridgHt     True\n",
       "Neighborhood_OldTown     True\n",
       "Neighborhood_SWISU       True\n",
       "Neighborhood_Sawyer      True\n",
       "Neighborhood_SawyerW     True\n",
       "Neighborhood_Somerst     True\n",
       "Neighborhood_StoneBr     True\n",
       "Neighborhood_Timber      True\n",
       "Neighborhood_Veenker     True\n",
       "PavedDrive_N             True\n",
       "PavedDrive_P             True\n",
       "PavedDrive_Y             True\n",
       "RoofStyle_Flat           True\n",
       "RoofStyle_Gable          True\n",
       "RoofStyle_Gambrel        True\n",
       "RoofStyle_Hip            True\n",
       "RoofStyle_Mansard        True\n",
       "RoofStyle_Shed           True\n",
       "SaleCondition_Abnorml    True\n",
       "SaleCondition_AdjLand    True\n",
       "SaleCondition_Alloca     True\n",
       "SaleCondition_Family     True\n",
       "SaleCondition_Normal     True\n",
       "SaleCondition_Partial    True\n",
       "SaleType_COD             True\n",
       "SaleType_CWD             True\n",
       "SaleType_Con             True\n",
       "SaleType_ConLD           True\n",
       "SaleType_ConLI           True\n",
       "SaleType_ConLw           True\n",
       "SaleType_New             True\n",
       "SaleType_Oth             True\n",
       "SaleType_WD              True\n",
       "dtype: bool"
      ]
     },
     "execution_count": 883,
     "metadata": {},
     "output_type": "execute_result"
    }
   ],
   "source": [
    "np.isfinite(all_data).any()"
   ]
  },
  {
   "cell_type": "code",
   "execution_count": 564,
   "metadata": {},
   "outputs": [
    {
     "data": {
      "text/plain": [
       "Index(['1stFlrSF', '2ndFlrSF', 'Alley', 'BedroomAbvGr', 'BldgType', 'BsmtCond',\n",
       "       'BsmtExposure', 'BsmtFinSF1', 'BsmtFinSF2', 'BsmtFinType1',\n",
       "       'BsmtFinType2', 'BsmtFullBath', 'BsmtHalfBath', 'BsmtQual', 'BsmtUnfSF',\n",
       "       'CentralAir', 'Condition1', 'Electrical', 'EnclosedPorch', 'ExterCond',\n",
       "       'ExterQual', 'Exterior1st', 'Exterior2nd', 'Fence', 'FireplaceQu',\n",
       "       'Fireplaces', 'Foundation', 'FullBath', 'Functional', 'GarageArea',\n",
       "       'GarageCars', 'GarageCond', 'GarageFinish', 'GarageQual', 'GarageType',\n",
       "       'GrLivArea', 'HalfBath', 'Heating', 'HeatingQC', 'HouseStyle',\n",
       "       'KitchenAbvGr', 'KitchenQual', 'LandContour', 'LandSlope', 'LotArea',\n",
       "       'LotConfig', 'LotFrontage', 'LotShape', 'MSSubClass', 'MSZoning',\n",
       "       'MasVnrArea', 'MasVnrType', 'MiscFeature', 'MoSold', 'Neighborhood',\n",
       "       'OpenPorchSF', 'OverallCond', 'OverallQual', 'PavedDrive', 'RoofStyle',\n",
       "       'SaleCondition', 'SaleType', 'ScreenPorch', 'TotRmsAbvGrd',\n",
       "       'TotalBsmtSF', 'WoodDeckSF', 'YearBuilt', 'YearRemodAdd', 'YrSold'],\n",
       "      dtype='object')"
      ]
     },
     "execution_count": 564,
     "metadata": {},
     "output_type": "execute_result"
    }
   ],
   "source": [
    "all_data.columns"
   ]
  },
  {
   "cell_type": "markdown",
   "metadata": {
    "_cell_guid": "29fa13df-61e8-b0c2-b3a7-ea92bffd4396"
   },
   "source": [
    "###Data preprocessing: \n",
    "We're not going to do anything fancy here: \n",
    " \n",
    "- First I'll transform the skewed numeric features by taking log(feature + 1) - this will make the features more normal    \n",
    "- Create Dummy variables for the categorical features    \n",
    "- Replace the numeric missing values (NaN's) with the mean of their respective columns"
   ]
  },
  {
   "cell_type": "code",
   "execution_count": 565,
   "metadata": {
    "_cell_guid": "9b5a3e5b-f683-3fd2-7269-4068975bbe42"
   },
   "outputs": [
    {
     "data": {
      "text/plain": [
       "array([[<matplotlib.axes._subplots.AxesSubplot object at 0x000001A06023DC50>,\n",
       "        <matplotlib.axes._subplots.AxesSubplot object at 0x000001A06028CAC8>]], dtype=object)"
      ]
     },
     "execution_count": 565,
     "metadata": {},
     "output_type": "execute_result"
    },
    {
     "data": {
      "image/png": "[encoded data removed]",
      "text/plain": [
       "<matplotlib.figure.Figure at 0x1a066585da0>"
      ]
     },
     "metadata": {
      "image/png": {
       "height": 372,
       "width": 712
      }
     },
     "output_type": "display_data"
    }
   ],
   "source": [
    "matplotlib.rcParams['figure.figsize'] = (12.0, 6.0)\n",
    "prices = pd.DataFrame({\"price\":train[\"SalePrice\"], \"log(price + 1)\":np.log1p(train[\"SalePrice\"])})\n",
    "prices.hist()"
   ]
  },
  {
   "cell_type": "code",
   "execution_count": 566,
   "metadata": {
    "_cell_guid": "4ed54771-95c4-00e7-b2cd-569d17862878",
    "collapsed": true
   },
   "outputs": [],
   "source": [
    "#filling NA's with the mean of the column:\n",
    "all_data = all_data.replace(0,all_data.mean())\n",
    "from numpy import inf\n",
    "all_data = all_data.replace(-inf , 0)\n",
    "all_data = all_data.replace(inf , 0)"
   ]
  },
  {
   "cell_type": "code",
   "execution_count": 889,
   "metadata": {
    "_cell_guid": "3854ab12-a4f3-4c88-fe6e-1fee08e18af2",
    "collapsed": true
   },
   "outputs": [],
   "source": [
    "all_data = pd.get_dummies(all_data)"
   ]
  },
  {
   "cell_type": "code",
   "execution_count": 890,
   "metadata": {
    "_cell_guid": "fe687685-cdac-0a89-4d71-af2d11d87a81",
    "collapsed": true
   },
   "outputs": [],
   "source": [
    "#creating matrices for sklearn:\n",
    "X_train = all_data[:train.shape[0]]\n",
    "X_test = all_data[train.shape[0]:]\n",
    "y = np.log1p(train[\"SalePrice\"])"
   ]
  },
  {
   "cell_type": "code",
   "execution_count": 569,
   "metadata": {
    "collapsed": true
   },
   "outputs": [],
   "source": [
    "# X_train.isnull().sum()\n",
    "# np.isfinite(X_train).sum()"
   ]
  },
  {
   "cell_type": "code",
   "execution_count": null,
   "metadata": {
    "collapsed": true
   },
   "outputs": [],
   "source": []
  },
  {
   "cell_type": "code",
   "execution_count": null,
   "metadata": {
    "collapsed": true
   },
   "outputs": [],
   "source": []
  },
  {
   "cell_type": "code",
   "execution_count": null,
   "metadata": {
    "collapsed": true
   },
   "outputs": [],
   "source": []
  },
  {
   "cell_type": "code",
   "execution_count": null,
   "metadata": {
    "collapsed": true
   },
   "outputs": [],
   "source": []
  },
  {
   "cell_type": "code",
   "execution_count": null,
   "metadata": {
    "collapsed": true
   },
   "outputs": [],
   "source": []
  },
  {
   "cell_type": "code",
   "execution_count": null,
   "metadata": {
    "collapsed": true
   },
   "outputs": [],
   "source": []
  },
  {
   "cell_type": "markdown",
   "metadata": {},
   "source": [
    "## ElasticNet"
   ]
  },
  {
   "cell_type": "code",
   "execution_count": 333,
   "metadata": {
    "collapsed": true
   },
   "outputs": [],
   "source": [
    "from sklearn.linear_model import ElasticNet\n",
    "regr = ElasticNet(random_state=0)"
   ]
  },
  {
   "cell_type": "code",
   "execution_count": 909,
   "metadata": {
    "collapsed": true
   },
   "outputs": [],
   "source": [
    "from sklearn.model_selection import GridSearchCV\n",
    "grid_el = {'alpha': [0.01],\n",
    "           'l1_ratio':[0.02],\n",
    "          'fit_intercept':[True],\n",
    "          'normalize':[False]}\n",
    "\n",
    "grid_search_E = GridSearchCV(estimator = regr, param_grid = grid_el, cv = 10, n_jobs = -1, \n",
    "                           verbose = 2, scoring = 'neg_mean_squared_error')"
   ]
  },
  {
   "cell_type": "code",
   "execution_count": 910,
   "metadata": {},
   "outputs": [
    {
     "name": "stdout",
     "output_type": "stream",
     "text": [
      "Fitting 10 folds for each of 1 candidates, totalling 10 fits\n"
     ]
    },
    {
     "name": "stderr",
     "output_type": "stream",
     "text": [
      "[Parallel(n_jobs=-1)]: Done  10 out of  10 | elapsed:    3.5s finished\n"
     ]
    },
    {
     "data": {
      "text/plain": [
       "{'alpha': 0.01, 'fit_intercept': True, 'l1_ratio': 0.02, 'normalize': False}"
      ]
     },
     "execution_count": 910,
     "metadata": {},
     "output_type": "execute_result"
    }
   ],
   "source": [
    "grid_search_E.fit(X_train, y)\n",
    "grid_search_E.best_params_\n",
    "# {'alpha': 0.01, 'fit_intercept': True, 'l1_ratio': 0.02, 'normalize': False}"
   ]
  },
  {
   "cell_type": "code",
   "execution_count": 911,
   "metadata": {},
   "outputs": [
    {
     "data": {
      "text/plain": [
       "0.12556617381222593"
      ]
     },
     "execution_count": 911,
     "metadata": {},
     "output_type": "execute_result"
    }
   ],
   "source": [
    "from math import sqrt\n",
    "sqrt(-grid_search_E.best_score_) #skew : 0.1325324059474199"
   ]
  },
  {
   "cell_type": "markdown",
   "metadata": {},
   "source": [
    "## Lasso"
   ]
  },
  {
   "cell_type": "code",
   "execution_count": 1013,
   "metadata": {},
   "outputs": [
    {
     "data": {
      "text/plain": [
       "0.12262581386102198"
      ]
     },
     "execution_count": 1013,
     "metadata": {},
     "output_type": "execute_result"
    }
   ],
   "source": [
    "\n",
    "model_lasso = LassoCV(alphas = [  0.0005]).fit(X_train, y)\n",
    "rmse_cv(model_lasso).mean()\n"
   ]
  },
  {
   "cell_type": "code",
   "execution_count": 1011,
   "metadata": {
    "collapsed": true
   },
   "outputs": [],
   "source": [
    "lasso_preds = np.expm1(model_lasso.predict(X_test))"
   ]
  },
  {
   "cell_type": "markdown",
   "metadata": {},
   "source": [
    "## Random Forest"
   ]
  },
  {
   "cell_type": "code",
   "execution_count": 986,
   "metadata": {
    "collapsed": true
   },
   "outputs": [],
   "source": [
    "from sklearn.model_selection import GridSearchCV\n",
    "from sklearn.ensemble import RandomForestRegressor\n",
    "rf = RandomForestRegressor(random_state = 0)\n",
    "param_grid = {'n_estimators': [3000],\n",
    "               'max_features': ['sqrt'],\n",
    "               'max_depth': [21],\n",
    "#                'min_samples_split': [2],\n",
    "#                'min_samples_leaf': [1],\n",
    "               'bootstrap' : [False]\n",
    "               }\n",
    "\n",
    "grid_search = GridSearchCV(estimator = rf, param_grid = param_grid,\n",
    "                           cv = 10, n_jobs = -1, verbose = 2, scoring = 'neg_mean_squared_error')"
   ]
  },
  {
   "cell_type": "code",
   "execution_count": 987,
   "metadata": {},
   "outputs": [
    {
     "name": "stdout",
     "output_type": "stream",
     "text": [
      "Fitting 10 folds for each of 1 candidates, totalling 10 fits\n"
     ]
    },
    {
     "name": "stderr",
     "output_type": "stream",
     "text": [
      "[Parallel(n_jobs=-1)]: Done  10 out of  10 | elapsed:  1.5min finished\n"
     ]
    },
    {
     "data": {
      "text/plain": [
       "{'bootstrap': False,\n",
       " 'max_depth': 21,\n",
       " 'max_features': 'sqrt',\n",
       " 'n_estimators': 3000}"
      ]
     },
     "execution_count": 987,
     "metadata": {},
     "output_type": "execute_result"
    }
   ],
   "source": [
    "grid_search.fit(X_train, y)\n",
    "grid_search.best_params_\n",
    "\n",
    "# {'bootstrap': False,\n",
    "#  'max_depth': 21,\n",
    "#  'max_features': 'sqrt',\n",
    "#  'min_samples_leaf': 1,\n",
    "#  'min_samples_split': 2,\n",
    "#  'n_estimators': 1000}"
   ]
  },
  {
   "cell_type": "code",
   "execution_count": 988,
   "metadata": {},
   "outputs": [
    {
     "data": {
      "text/plain": [
       "0.13621974413337026"
      ]
     },
     "execution_count": 988,
     "metadata": {},
     "output_type": "execute_result"
    }
   ],
   "source": [
    "sqrt(-grid_search.best_score_) #skew :0.1389821283984828"
   ]
  },
  {
   "cell_type": "code",
   "execution_count": null,
   "metadata": {
    "collapsed": true
   },
   "outputs": [],
   "source": []
  },
  {
   "cell_type": "code",
   "execution_count": null,
   "metadata": {
    "collapsed": true
   },
   "outputs": [],
   "source": []
  },
  {
   "cell_type": "code",
   "execution_count": null,
   "metadata": {
    "collapsed": true
   },
   "outputs": [],
   "source": []
  },
  {
   "cell_type": "code",
   "execution_count": null,
   "metadata": {
    "collapsed": true
   },
   "outputs": [],
   "source": []
  },
  {
   "cell_type": "markdown",
   "metadata": {},
   "source": [
    "## Graident Boosting"
   ]
  },
  {
   "cell_type": "code",
   "execution_count": 1016,
   "metadata": {
    "collapsed": true
   },
   "outputs": [],
   "source": [
    "#gbm\n",
    "from sklearn.ensemble import GradientBoostingRegressor\n",
    "params = {'max_features': ['sqrt'],\n",
    "#           'min_samples_split': [10],#\n",
    "#           'min_samples_leaf': [2],\n",
    "          'max_depth': [4,5],\n",
    "          'n_estimators':[1500],\n",
    "          'learning_rate':[0.01,0.04],\n",
    "          'subsample':[0.7,0.8],\n",
    "          'loss':['huber'],\n",
    "          }\n",
    "gbm = GradientBoostingRegressor(random_state = 1)\n",
    "grid_search = GridSearchCV(estimator = gbm, param_grid = params,\n",
    "                           cv = 10, n_jobs = -1, verbose = 2, scoring = 'neg_mean_squared_error')"
   ]
  },
  {
   "cell_type": "code",
   "execution_count": 1017,
   "metadata": {
    "scrolled": true
   },
   "outputs": [
    {
     "name": "stdout",
     "output_type": "stream",
     "text": [
      "Fitting 10 folds for each of 8 candidates, totalling 80 fits\n"
     ]
    },
    {
     "name": "stderr",
     "output_type": "stream",
     "text": [
      "[Parallel(n_jobs=-1)]: Done  33 tasks      | elapsed:  1.3min\n",
      "[Parallel(n_jobs=-1)]: Done  80 out of  80 | elapsed:  2.9min finished\n"
     ]
    },
    {
     "name": "stdout",
     "output_type": "stream",
     "text": [
      "{'learning_rate': 0.04, 'loss': 'huber', 'max_depth': 4, 'max_features': 'sqrt', 'n_estimators': 1500, 'subsample': 0.7}\n"
     ]
    },
    {
     "data": {
      "text/plain": [
       "0.11476506079711307"
      ]
     },
     "execution_count": 1017,
     "metadata": {},
     "output_type": "execute_result"
    }
   ],
   "source": [
    "grid_search.fit(X_train, y)\n",
    "print(grid_search.best_params_)\n",
    "sqrt(-grid_search.best_score_)\n",
    "# {'learning_rate': 0.01, 'loss': 'huber', 'max_depth': 4, 'max_features': 'sqrt', 'min_samples_leaf': 2, 'min_samples_split': 10, 'n_estimators': 3000, 'subsample': 0.7}\n",
    "# 0.11574630876794141"
   ]
  },
  {
   "cell_type": "code",
   "execution_count": null,
   "metadata": {
    "collapsed": true
   },
   "outputs": [],
   "source": []
  },
  {
   "cell_type": "code",
   "execution_count": null,
   "metadata": {
    "collapsed": true
   },
   "outputs": [],
   "source": []
  },
  {
   "cell_type": "code",
   "execution_count": 545,
   "metadata": {
    "collapsed": true
   },
   "outputs": [],
   "source": []
  },
  {
   "cell_type": "markdown",
   "metadata": {},
   "source": [
    "http://scikit-learn.org/stable/auto_examples/ensemble/plot_gradient_boosting_regression.html"
   ]
  },
  {
   "cell_type": "code",
   "execution_count": null,
   "metadata": {
    "collapsed": true
   },
   "outputs": [],
   "source": []
  },
  {
   "cell_type": "markdown",
   "metadata": {},
   "source": [
    "## Xgboosting"
   ]
  },
  {
   "cell_type": "code",
   "execution_count": 696,
   "metadata": {
    "collapsed": true
   },
   "outputs": [],
   "source": [
    "score_xgb =[]"
   ]
  },
  {
   "cell_type": "code",
   "execution_count": 1024,
   "metadata": {
    "collapsed": true
   },
   "outputs": [],
   "source": [
    "import xgboost as xgb\n",
    "param_xgb = {\n",
    "#      'colsample_bytree':[0.31], #\n",
    "             'gamma':[0.01], #\n",
    "             'learning_rate':[0.07,0.06,0.08], #0.04\n",
    "#              'max_depth':[3], #\n",
    "#              'min_child_weight':[0.25],#\n",
    "             'n_estimators':[1000],\n",
    "             'reg_alpha':[0.04], #1\n",
    "             'reg_lambda':[0.29,0.28],#\n",
    "              'subsample':[0.595], #0.6\n",
    "#               'silent':[1],\n",
    "              'random_state':[7], #\n",
    "#               'nthread':[-1],\n",
    "              }#\n",
    "xgb1 = xgb.XGBRegressor()\n",
    "grid_xgb = GridSearchCV(estimator = xgb1, param_grid = param_xgb,cv = 3, n_jobs = -1, verbose = 2,scoring = 'neg_mean_squared_error')"
   ]
  },
  {
   "cell_type": "code",
   "execution_count": 1025,
   "metadata": {},
   "outputs": [
    {
     "name": "stdout",
     "output_type": "stream",
     "text": [
      "Fitting 3 folds for each of 6 candidates, totalling 18 fits\n"
     ]
    },
    {
     "name": "stderr",
     "output_type": "stream",
     "text": [
      "Exception ignored in: <bound method DMatrix.__del__ of <xgboost.core.DMatrix object at 0x000001A02A3AD3C8>>\n",
      "Traceback (most recent call last):\n",
      "  File \"C:\\ProgramData\\Anaconda3\\lib\\site-packages\\xgboost\\core.py\", line 368, in __del__\n",
      "    if self.handle is not None:\n",
      "AttributeError: 'DMatrix' object has no attribute 'handle'\n",
      "[Parallel(n_jobs=-1)]: Done  18 out of  18 | elapsed:   49.0s finished\n"
     ]
    },
    {
     "name": "stdout",
     "output_type": "stream",
     "text": [
      "{'gamma': 0.01, 'learning_rate': 0.06, 'n_estimators': 1000, 'random_state': 7, 'reg_alpha': 0.04, 'reg_lambda': 0.29, 'subsample': 0.595}\n"
     ]
    },
    {
     "data": {
      "text/plain": [
       "0.12064878234326104"
      ]
     },
     "execution_count": 1025,
     "metadata": {},
     "output_type": "execute_result"
    }
   ],
   "source": [
    "grid_xgb.fit(X_train, y)\n",
    "print(grid_xgb.best_params_)\n",
    "sqrt(-grid_xgb.best_score_)"
   ]
  },
  {
   "cell_type": "markdown",
   "metadata": {},
   "source": [
    "## Stacking"
   ]
  },
  {
   "cell_type": "code",
   "execution_count": 846,
   "metadata": {
    "collapsed": true
   },
   "outputs": [],
   "source": [
    "from stacking import stacking_regression\n",
    "from sklearn.metrics import mean_squared_error"
   ]
  },
  {
   "cell_type": "code",
   "execution_count": 847,
   "metadata": {
    "collapsed": true
   },
   "outputs": [],
   "source": [
    "def rmsle(y, y_pred):\n",
    "    return np.sqrt(mean_squared_error(y, y_pred))"
   ]
  },
  {
   "cell_type": "code",
   "execution_count": 998,
   "metadata": {
    "_cell_guid": "69ff958c-dbbb-4750-3fb0-d0ac17ff6363",
    "collapsed": true
   },
   "outputs": [],
   "source": [
    "models = [ \n",
    "    # linear model, ElasticNet = lasso + ridge\n",
    "#     ElasticNet(random_state=0,alpha=0.01,fit_intercept=True,l1_ratio=0.02,normalize=False), \n",
    "    #random forest\n",
    "#     RandomForestRegressor(random_state = 0,n_estimators=3000,max_features='sqrt',max_depth=21,min_samples_split=2,\n",
    "#                          min_samples_leaf=1,bootstrap=False),\n",
    "\n",
    "    \n",
    "    #Lasso\n",
    "#     from sklearn import linear_model\n",
    "#     linear_model.Lasso(alpha = 0.0005)\n",
    "    \n",
    "    # gbr model\n",
    "    GradientBoostingRegressor(random_state=1, learning_rate = 0.01, max_features='sqrt',n_estimators=3000, max_depth=4,subsample=0.7,loss='ls'),\n",
    "    \n",
    "    # xgb\n",
    "\n",
    "    xgb.XGBRegressor(random_state = 7, learning_rate = 0.0275 ,gamma=0.01,reg_alpha=0.04,reg_lambda=0.29,subsample=0.595,n_estimators =3000, max_depth = 3),]\n",
    "from sklearn.linear_model import ElasticNet, LinearRegression as lr\n",
    "meta_model = lr(normalize=True)"
   ]
  },
  {
   "cell_type": "code",
   "execution_count": 945,
   "metadata": {},
   "outputs": [
    {
     "name": "stdout",
     "output_type": "stream",
     "text": [
      "metric: [rmsle]\n",
      "\n",
      "model 0: [ElasticNet]\n",
      "    ----\n",
      "    MEAN:   [193777.83866234]\n",
      "\n",
      "model 1: [RandomForestRegressor]\n",
      "    ----\n",
      "    MEAN:   [187903.25168354]\n",
      "\n",
      "model 2: [GradientBoostingRegressor]\n",
      "    ----\n",
      "    MEAN:   [192931.44470570]\n",
      "\n",
      "model 3: [XGBRegressor]\n",
      "    ----\n",
      "    MEAN:   [194172.16244812]\n",
      "\n"
     ]
    }
   ],
   "source": [
    "# stack with four\n",
    "\n",
    "final_predictionall = stacking_regression(models, meta_model, X_train, y, X_test,metric=rmsle, \n",
    "                                       verbose=1,transform_pred = np.expm1)\n",
    "sub = pd.DataFrame()\n",
    "sub['Id'] = test['Id']\n",
    "sub['SalePrice'] = final_predictionall\n",
    "sub.to_csv('submission_all.csv',index=False)"
   ]
  },
  {
   "cell_type": "code",
   "execution_count": 894,
   "metadata": {},
   "outputs": [
    {
     "name": "stdout",
     "output_type": "stream",
     "text": [
      "metric: [rmsle]\n",
      "\n",
      "model 0: [ElasticNet]\n",
      "    ----\n",
      "    MEAN:   [0.12736421]\n",
      "\n",
      "model 1: [GradientBoostingRegressor]\n",
      "    ----\n",
      "    MEAN:   [0.11778158]\n",
      "\n",
      "model 2: [XGBRegressor]\n",
      "    ----\n",
      "    MEAN:   [0.11953592]\n",
      "\n",
      "Wall time: 31.5 s\n"
     ]
    }
   ],
   "source": [
    "# stack with three\n",
    "%%time\n",
    "final_prediction = stacking_regression(models, meta_model, X_train, y, X_test,metric=rmsle, \n",
    "                                       verbose=1,transform_pred = np.expm1)\n",
    "sub = pd.DataFrame()\n",
    "sub['Id'] = test['Id']\n",
    "sub['SalePrice'] = final_prediction\n",
    "sub.to_csv('submission_3w.csv',index=False)"
   ]
  },
  {
   "cell_type": "code",
   "execution_count": null,
   "metadata": {
    "collapsed": true
   },
   "outputs": [],
   "source": []
  },
  {
   "cell_type": "code",
   "execution_count": 999,
   "metadata": {},
   "outputs": [
    {
     "name": "stdout",
     "output_type": "stream",
     "text": [
      "metric: [rmsle]\n",
      "\n",
      "model 0: [GradientBoostingRegressor]\n",
      "    ----\n",
      "    MEAN:   [193000.51015524]\n",
      "\n",
      "model 1: [XGBRegressor]\n",
      "    ----\n",
      "    MEAN:   [194360.54295107]\n",
      "\n"
     ]
    }
   ],
   "source": [
    "# stack with boosting\n",
    "final_prediction1 = stacking_regression(models, meta_model, X_train, y, X_test,metric=rmsle, \n",
    "                                        verbose=1,transform_pred = np.expm1)\n",
    "sub = pd.DataFrame()\n",
    "sub['Id'] = test['Id']\n",
    "sub['SalePrice'] = final_prediction1\n",
    "sub.to_csv('submission_b.csv',index=False)"
   ]
  },
  {
   "cell_type": "code",
   "execution_count": null,
   "metadata": {
    "collapsed": true
   },
   "outputs": [],
   "source": []
  },
  {
   "cell_type": "code",
   "execution_count": 917,
   "metadata": {},
   "outputs": [
    {
     "name": "stdout",
     "output_type": "stream",
     "text": [
      "metric: [rmsle]\n",
      "\n",
      "model 0: [ElasticNet]\n",
      "    ----\n",
      "    MEAN:   [193777.83866234]\n",
      "\n",
      "model 1: [RandomForestRegressor]\n",
      "    ----\n",
      "    MEAN:   [187903.25168354]\n",
      "\n"
     ]
    }
   ],
   "source": [
    "#random forest and elasticnet\n",
    "final_prediction2 = stacking_regression(models, meta_model, X_train, y, X_test,metric=rmsle, verbose=1,\n",
    "                                        transform_pred = np.expm1)\n",
    "sub = pd.DataFrame()\n",
    "sub['Id'] = test['Id']\n",
    "sub['SalePrice'] = final_prediction2\n",
    "sub.to_csv('submission_fel.csv',index=False)"
   ]
  },
  {
   "cell_type": "markdown",
   "metadata": {
    "_cell_guid": "863fb699-7bcd-3748-3dbb-1c9b18afee9b"
   },
   "source": [
    "So for the Ridge regression we get a rmsle of about 0.127\n",
    "\n",
    "Let' try out the Lasso model. We will do a slightly different approach here and use the built in Lasso CV to figure out the best alpha for us. For some reason the alphas in Lasso CV are really the inverse or the alphas in Ridge."
   ]
  },
  {
   "cell_type": "code",
   "execution_count": 952,
   "metadata": {
    "_cell_guid": "8204520c-a595-2ad2-4685-0b84cc662b84",
    "collapsed": true
   },
   "outputs": [],
   "source": [
    "model_lasso = LassoCV(alphas = [ 1,0.1, 0.001, 0.0005]).fit(X_train, y)\n",
    "rmse_cv(model_lasso).mean()\n",
    "lasso_preds = np.expm1(model_lasso.predict(X_test))"
   ]
  },
  {
   "cell_type": "code",
   "execution_count": 953,
   "metadata": {
    "_cell_guid": "e78e6126-4de0-08ad-250b-46a3f0f48de0"
   },
   "outputs": [
    {
     "data": {
      "text/plain": [
       "0.12262581386102198"
      ]
     },
     "execution_count": 953,
     "metadata": {},
     "output_type": "execute_result"
    }
   ],
   "source": []
  },
  {
   "cell_type": "code",
   "execution_count": null,
   "metadata": {
    "collapsed": true
   },
   "outputs": [],
   "source": []
  },
  {
   "cell_type": "markdown",
   "metadata": {
    "_cell_guid": "abc5f43e-1c38-4c1e-cb70-a95c8d9be8de"
   },
   "source": [
    "Nice! The lasso performs even better so we'll just use this one to predict on the test set. Another neat thing about the Lasso is that it does feature selection for you - setting coefficients of features it deems unimportant to zero. Let's take a look at the coefficients:"
   ]
  },
  {
   "cell_type": "code",
   "execution_count": 954,
   "metadata": {
    "_cell_guid": "c7be87ca-412a-cb19-1524-cd94cf698d44",
    "collapsed": true
   },
   "outputs": [],
   "source": [
    "coef = pd.Series(model_lasso.coef_, index = X_train.columns)"
   ]
  },
  {
   "cell_type": "code",
   "execution_count": 955,
   "metadata": {
    "_cell_guid": "14be641e-bbe0-824d-d90f-f47698c8b5c5"
   },
   "outputs": [
    {
     "name": "stdout",
     "output_type": "stream",
     "text": [
      "Lasso picked 100 variables and eliminated the other 125 variables\n"
     ]
    }
   ],
   "source": [
    "print(\"Lasso picked \" + str(sum(coef != 0)) + \" variables and eliminated the other \" +  str(sum(coef == 0)) + \" variables\")"
   ]
  },
  {
   "cell_type": "markdown",
   "metadata": {
    "_cell_guid": "ca153134-b109-1afc-e066-44273f65d44c"
   },
   "source": [
    "Good job Lasso.  One thing to note here however is that the features selected are not necessarily the \"correct\" ones - especially since there are a lot of collinear features in this dataset. One idea to try here is run Lasso a few times on boostrapped samples and see how stable the feature selection is."
   ]
  },
  {
   "cell_type": "markdown",
   "metadata": {
    "_cell_guid": "632e23a8-948f-c692-f5e9-1aa8a75f21d5"
   },
   "source": [
    "We can also take a look directly at what the most important coefficients are:"
   ]
  },
  {
   "cell_type": "code",
   "execution_count": 956,
   "metadata": {
    "_cell_guid": "3efc02df-c877-b1fe-1807-5dd93c896c63",
    "collapsed": true
   },
   "outputs": [],
   "source": [
    "imp_coef = pd.concat([coef.sort_values().head(20),\n",
    "                     coef.sort_values().tail(20)])"
   ]
  },
  {
   "cell_type": "code",
   "execution_count": 957,
   "metadata": {
    "_cell_guid": "87317789-6e7e-d57f-0b54-d8ba0ee26abf"
   },
   "outputs": [
    {
     "data": {
      "text/plain": [
       "Text(0.5,1,'Coefficients in the Lasso Model')"
      ]
     },
     "execution_count": 957,
     "metadata": {},
     "output_type": "execute_result"
    },
    {
     "data": {
      "image/png": "[encoded data removed]",
      "text/plain": [
       "<matplotlib.figure.Figure at 0x1a02a3a94e0>"
      ]
     },
     "metadata": {
      "image/png": {
       "height": 590,
       "width": 589
      }
     },
     "output_type": "display_data"
    }
   ],
   "source": [
    "matplotlib.rcParams['figure.figsize'] = (8.0, 10.0)\n",
    "imp_coef.plot(kind = \"barh\")\n",
    "plt.title(\"Coefficients in the Lasso Model\")"
   ]
  },
  {
   "cell_type": "markdown",
   "metadata": {
    "_cell_guid": "f6e6f820-1ec6-4a69-c309-9992b80652da"
   },
   "source": [
    "The most important positive feature is `GrLivArea` -  the above ground area by area square feet. This definitely sense. Then a few other  location and quality features contributed positively. Some of the negative features make less sense and would be worth looking into more - it seems like they might come from unbalanced categorical variables.\n",
    "\n",
    " Also note that unlike the feature importance you'd get from a random forest these are _actual_ coefficients in your model - so you can say precisely why the predicted price is what it is. The only issue here is that we log_transformed both the target and the numeric features so the actual magnitudes are a bit hard to interpret. "
   ]
  },
  {
   "cell_type": "code",
   "execution_count": 958,
   "metadata": {
    "_cell_guid": "cdeaa3d3-f9ad-2e06-1339-61b4425a43f8"
   },
   "outputs": [
    {
     "data": {
      "text/plain": [
       "<matplotlib.axes._subplots.AxesSubplot at 0x1a07d5e1f60>"
      ]
     },
     "execution_count": 958,
     "metadata": {},
     "output_type": "execute_result"
    },
    {
     "data": {
      "image/png": "[encoded data removed]",
      "text/plain": [
       "<matplotlib.figure.Figure at 0x1a02c13f4a8>"
      ]
     },
     "metadata": {
      "image/png": {
       "height": 372,
       "width": 402
      }
     },
     "output_type": "display_data"
    }
   ],
   "source": [
    "#let's look at the residuals as well:\n",
    "matplotlib.rcParams['figure.figsize'] = (6.0, 6.0)\n",
    "\n",
    "preds = pd.DataFrame({\"preds\":model_lasso.predict(X_train), \"true\":y})\n",
    "preds[\"residuals\"] = preds[\"true\"] - preds[\"preds\"]\n",
    "preds.plot(x = \"preds\", y = \"residuals\",kind = \"scatter\")"
   ]
  },
  {
   "cell_type": "markdown",
   "metadata": {
    "_cell_guid": "4780532e-2815-e355-9a96-fb1c598f6984"
   },
   "source": [
    "The residual plot looks pretty good.To wrap it up let's predict on the test set and submit on the leaderboard:"
   ]
  },
  {
   "cell_type": "markdown",
   "metadata": {
    "_cell_guid": "ae9bcc1a-5106-0909-ecf7-0abc2d2ca386"
   },
   "source": [
    "Let's add an xgboost model to our linear model to see if we can improve our score:"
   ]
  },
  {
   "cell_type": "code",
   "execution_count": 959,
   "metadata": {
    "_cell_guid": "654e4fcf-a049-921a-4783-3c6d6dcca673",
    "collapsed": true
   },
   "outputs": [],
   "source": [
    "import xgboost as xgb\n",
    "model_xgb = xgb.XGBRegressor(n_estimators=360, max_depth=2, learning_rate=0.1)"
   ]
  },
  {
   "cell_type": "code",
   "execution_count": 1022,
   "metadata": {
    "_cell_guid": "be53a9f8-d88b-05fb-734d-3a1388d39864",
    "collapsed": true
   },
   "outputs": [],
   "source": [
    "\n",
    "dtrain = xgb.DMatrix(X_train, label = y)\n",
    "dtest = xgb.DMatrix(X_test)\n",
    "\n",
    "params = {\"max_depth\":2, \"eta\":0.1}\n",
    "model = xgb.cv(params, dtrain,  num_boost_round=500, early_stopping_rounds=100)"
   ]
  },
  {
   "cell_type": "code",
   "execution_count": 1023,
   "metadata": {
    "_cell_guid": "00b8a271-0f93-c757-7e33-516c3a297628"
   },
   "outputs": [
    {
     "ename": "TypeError",
     "evalue": "can not initialize DMatrix from DMatrix",
     "output_type": "error",
     "traceback": [
      "\u001b[1;31m---------------------------------------------------------------------------\u001b[0m",
      "\u001b[1;31mTypeError\u001b[0m                                 Traceback (most recent call last)",
      "\u001b[1;32mC:\\ProgramData\\Anaconda3\\lib\\site-packages\\xgboost\\core.py\u001b[0m in \u001b[0;36m__init__\u001b[1;34m(self, data, label, missing, weight, silent, feature_names, feature_types, nthread)\u001b[0m\n\u001b[0;32m    282\u001b[0m             \u001b[1;32mtry\u001b[0m\u001b[1;33m:\u001b[0m\u001b[1;33m\u001b[0m\u001b[0m\n\u001b[1;32m--> 283\u001b[1;33m                 \u001b[0mcsr\u001b[0m \u001b[1;33m=\u001b[0m \u001b[0mscipy\u001b[0m\u001b[1;33m.\u001b[0m\u001b[0msparse\u001b[0m\u001b[1;33m.\u001b[0m\u001b[0mcsr_matrix\u001b[0m\u001b[1;33m(\u001b[0m\u001b[0mdata\u001b[0m\u001b[1;33m)\u001b[0m\u001b[1;33m\u001b[0m\u001b[0m\n\u001b[0m\u001b[0;32m    284\u001b[0m                 \u001b[0mself\u001b[0m\u001b[1;33m.\u001b[0m\u001b[0m_init_from_csr\u001b[0m\u001b[1;33m(\u001b[0m\u001b[0mcsr\u001b[0m\u001b[1;33m)\u001b[0m\u001b[1;33m\u001b[0m\u001b[0m\n",
      "\u001b[1;32mC:\\ProgramData\\Anaconda3\\lib\\site-packages\\scipy\\sparse\\compressed.py\u001b[0m in \u001b[0;36m__init__\u001b[1;34m(self, arg1, shape, dtype, copy)\u001b[0m\n\u001b[0;32m     78\u001b[0m             \u001b[1;32mfrom\u001b[0m \u001b[1;33m.\u001b[0m\u001b[0mcoo\u001b[0m \u001b[1;32mimport\u001b[0m \u001b[0mcoo_matrix\u001b[0m\u001b[1;33m\u001b[0m\u001b[0m\n\u001b[1;32m---> 79\u001b[1;33m             \u001b[0mself\u001b[0m\u001b[1;33m.\u001b[0m\u001b[0m_set_self\u001b[0m\u001b[1;33m(\u001b[0m\u001b[0mself\u001b[0m\u001b[1;33m.\u001b[0m\u001b[0m__class__\u001b[0m\u001b[1;33m(\u001b[0m\u001b[0mcoo_matrix\u001b[0m\u001b[1;33m(\u001b[0m\u001b[0marg1\u001b[0m\u001b[1;33m,\u001b[0m \u001b[0mdtype\u001b[0m\u001b[1;33m=\u001b[0m\u001b[0mdtype\u001b[0m\u001b[1;33m)\u001b[0m\u001b[1;33m)\u001b[0m\u001b[1;33m)\u001b[0m\u001b[1;33m\u001b[0m\u001b[0m\n\u001b[0m\u001b[0;32m     80\u001b[0m \u001b[1;33m\u001b[0m\u001b[0m\n",
      "\u001b[1;32mC:\\ProgramData\\Anaconda3\\lib\\site-packages\\scipy\\sparse\\compressed.py\u001b[0m in \u001b[0;36m__init__\u001b[1;34m(self, arg1, shape, dtype, copy)\u001b[0m\n\u001b[0;32m     31\u001b[0m             \u001b[1;32melse\u001b[0m\u001b[1;33m:\u001b[0m\u001b[1;33m\u001b[0m\u001b[0m\n\u001b[1;32m---> 32\u001b[1;33m                 \u001b[0marg1\u001b[0m \u001b[1;33m=\u001b[0m \u001b[0marg1\u001b[0m\u001b[1;33m.\u001b[0m\u001b[0masformat\u001b[0m\u001b[1;33m(\u001b[0m\u001b[0mself\u001b[0m\u001b[1;33m.\u001b[0m\u001b[0mformat\u001b[0m\u001b[1;33m)\u001b[0m\u001b[1;33m\u001b[0m\u001b[0m\n\u001b[0m\u001b[0;32m     33\u001b[0m             \u001b[0mself\u001b[0m\u001b[1;33m.\u001b[0m\u001b[0m_set_self\u001b[0m\u001b[1;33m(\u001b[0m\u001b[0marg1\u001b[0m\u001b[1;33m)\u001b[0m\u001b[1;33m\u001b[0m\u001b[0m\n",
      "\u001b[1;32mC:\\ProgramData\\Anaconda3\\lib\\site-packages\\scipy\\sparse\\base.py\u001b[0m in \u001b[0;36masformat\u001b[1;34m(self, format)\u001b[0m\n\u001b[0;32m    266\u001b[0m         \u001b[1;32melse\u001b[0m\u001b[1;33m:\u001b[0m\u001b[1;33m\u001b[0m\u001b[0m\n\u001b[1;32m--> 267\u001b[1;33m             \u001b[1;32mreturn\u001b[0m \u001b[0mgetattr\u001b[0m\u001b[1;33m(\u001b[0m\u001b[0mself\u001b[0m\u001b[1;33m,\u001b[0m \u001b[1;34m'to'\u001b[0m \u001b[1;33m+\u001b[0m \u001b[0mformat\u001b[0m\u001b[1;33m)\u001b[0m\u001b[1;33m(\u001b[0m\u001b[1;33m)\u001b[0m\u001b[1;33m\u001b[0m\u001b[0m\n\u001b[0m\u001b[0;32m    268\u001b[0m \u001b[1;33m\u001b[0m\u001b[0m\n",
      "\u001b[1;32mC:\\ProgramData\\Anaconda3\\lib\\site-packages\\scipy\\sparse\\coo.py\u001b[0m in \u001b[0;36mtocsr\u001b[1;34m(self, copy)\u001b[0m\n\u001b[0;32m    333\u001b[0m             \u001b[0mindices\u001b[0m \u001b[1;33m=\u001b[0m \u001b[0mnp\u001b[0m\u001b[1;33m.\u001b[0m\u001b[0mempty_like\u001b[0m\u001b[1;33m(\u001b[0m\u001b[0mcol\u001b[0m\u001b[1;33m,\u001b[0m \u001b[0mdtype\u001b[0m\u001b[1;33m=\u001b[0m\u001b[0midx_dtype\u001b[0m\u001b[1;33m)\u001b[0m\u001b[1;33m\u001b[0m\u001b[0m\n\u001b[1;32m--> 334\u001b[1;33m             \u001b[0mdata\u001b[0m \u001b[1;33m=\u001b[0m \u001b[0mnp\u001b[0m\u001b[1;33m.\u001b[0m\u001b[0mempty_like\u001b[0m\u001b[1;33m(\u001b[0m\u001b[0mself\u001b[0m\u001b[1;33m.\u001b[0m\u001b[0mdata\u001b[0m\u001b[1;33m,\u001b[0m \u001b[0mdtype\u001b[0m\u001b[1;33m=\u001b[0m\u001b[0mupcast\u001b[0m\u001b[1;33m(\u001b[0m\u001b[0mself\u001b[0m\u001b[1;33m.\u001b[0m\u001b[0mdtype\u001b[0m\u001b[1;33m)\u001b[0m\u001b[1;33m)\u001b[0m\u001b[1;33m\u001b[0m\u001b[0m\n\u001b[0m\u001b[0;32m    335\u001b[0m \u001b[1;33m\u001b[0m\u001b[0m\n",
      "\u001b[1;32mC:\\ProgramData\\Anaconda3\\lib\\site-packages\\scipy\\sparse\\sputils.py\u001b[0m in \u001b[0;36mupcast\u001b[1;34m(*args)\u001b[0m\n\u001b[0;32m     50\u001b[0m \u001b[1;33m\u001b[0m\u001b[0m\n\u001b[1;32m---> 51\u001b[1;33m     \u001b[1;32mraise\u001b[0m \u001b[0mTypeError\u001b[0m\u001b[1;33m(\u001b[0m\u001b[1;34m'no supported conversion for types: %r'\u001b[0m \u001b[1;33m%\u001b[0m \u001b[1;33m(\u001b[0m\u001b[0margs\u001b[0m\u001b[1;33m,\u001b[0m\u001b[1;33m)\u001b[0m\u001b[1;33m)\u001b[0m\u001b[1;33m\u001b[0m\u001b[0m\n\u001b[0m\u001b[0;32m     52\u001b[0m \u001b[1;33m\u001b[0m\u001b[0m\n",
      "\u001b[1;31mTypeError\u001b[0m: no supported conversion for types: (dtype('O'),)",
      "\nDuring handling of the above exception, another exception occurred:\n",
      "\u001b[1;31mTypeError\u001b[0m                                 Traceback (most recent call last)",
      "\u001b[1;32m<ipython-input-1023-bc9483e7d213>\u001b[0m in \u001b[0;36m<module>\u001b[1;34m()\u001b[0m\n\u001b[0;32m      1\u001b[0m \u001b[0mmodel_xgb\u001b[0m \u001b[1;33m=\u001b[0m \u001b[0mxgb\u001b[0m\u001b[1;33m.\u001b[0m\u001b[0mXGBRegressor\u001b[0m\u001b[1;33m(\u001b[0m\u001b[0mn_estimators\u001b[0m\u001b[1;33m=\u001b[0m\u001b[1;36m360\u001b[0m\u001b[1;33m,\u001b[0m \u001b[0mmax_depth\u001b[0m\u001b[1;33m=\u001b[0m\u001b[1;36m2\u001b[0m\u001b[1;33m,\u001b[0m \u001b[0mlearning_rate\u001b[0m\u001b[1;33m=\u001b[0m\u001b[1;36m0.1\u001b[0m\u001b[1;33m)\u001b[0m \u001b[1;31m#the params were tuned using xgb.cv\u001b[0m\u001b[1;33m\u001b[0m\u001b[0m\n\u001b[1;32m----> 2\u001b[1;33m \u001b[0mmodel_xgb\u001b[0m\u001b[1;33m.\u001b[0m\u001b[0mfit\u001b[0m\u001b[1;33m(\u001b[0m\u001b[0mdtrain\u001b[0m\u001b[1;33m,\u001b[0m \u001b[0my\u001b[0m\u001b[1;33m)\u001b[0m\u001b[1;33m\u001b[0m\u001b[0m\n\u001b[0m\u001b[0;32m      3\u001b[0m \u001b[0mxgb_preds\u001b[0m \u001b[1;33m=\u001b[0m \u001b[0mnp\u001b[0m\u001b[1;33m.\u001b[0m\u001b[0mexpm1\u001b[0m\u001b[1;33m(\u001b[0m\u001b[0mmodel_xgb\u001b[0m\u001b[1;33m.\u001b[0m\u001b[0mpredict\u001b[0m\u001b[1;33m(\u001b[0m\u001b[0mX_test\u001b[0m\u001b[1;33m)\u001b[0m\u001b[1;33m)\u001b[0m\u001b[1;33m\u001b[0m\u001b[0m\n",
      "\u001b[1;32mC:\\ProgramData\\Anaconda3\\lib\\site-packages\\xgboost\\sklearn.py\u001b[0m in \u001b[0;36mfit\u001b[1;34m(self, X, y, sample_weight, eval_set, eval_metric, early_stopping_rounds, verbose, xgb_model)\u001b[0m\n\u001b[0;32m    261\u001b[0m                                    missing=self.missing, nthread=self.n_jobs)\n\u001b[0;32m    262\u001b[0m         \u001b[1;32melse\u001b[0m\u001b[1;33m:\u001b[0m\u001b[1;33m\u001b[0m\u001b[0m\n\u001b[1;32m--> 263\u001b[1;33m             \u001b[0mtrainDmatrix\u001b[0m \u001b[1;33m=\u001b[0m \u001b[0mDMatrix\u001b[0m\u001b[1;33m(\u001b[0m\u001b[0mX\u001b[0m\u001b[1;33m,\u001b[0m \u001b[0mlabel\u001b[0m\u001b[1;33m=\u001b[0m\u001b[0my\u001b[0m\u001b[1;33m,\u001b[0m \u001b[0mmissing\u001b[0m\u001b[1;33m=\u001b[0m\u001b[0mself\u001b[0m\u001b[1;33m.\u001b[0m\u001b[0mmissing\u001b[0m\u001b[1;33m,\u001b[0m \u001b[0mnthread\u001b[0m\u001b[1;33m=\u001b[0m\u001b[0mself\u001b[0m\u001b[1;33m.\u001b[0m\u001b[0mn_jobs\u001b[0m\u001b[1;33m)\u001b[0m\u001b[1;33m\u001b[0m\u001b[0m\n\u001b[0m\u001b[0;32m    264\u001b[0m \u001b[1;33m\u001b[0m\u001b[0m\n\u001b[0;32m    265\u001b[0m         \u001b[0mevals_result\u001b[0m \u001b[1;33m=\u001b[0m \u001b[1;33m{\u001b[0m\u001b[1;33m}\u001b[0m\u001b[1;33m\u001b[0m\u001b[0m\n",
      "\u001b[1;32mC:\\ProgramData\\Anaconda3\\lib\\site-packages\\xgboost\\core.py\u001b[0m in \u001b[0;36m__init__\u001b[1;34m(self, data, label, missing, weight, silent, feature_names, feature_types, nthread)\u001b[0m\n\u001b[0;32m    284\u001b[0m                 \u001b[0mself\u001b[0m\u001b[1;33m.\u001b[0m\u001b[0m_init_from_csr\u001b[0m\u001b[1;33m(\u001b[0m\u001b[0mcsr\u001b[0m\u001b[1;33m)\u001b[0m\u001b[1;33m\u001b[0m\u001b[0m\n\u001b[0;32m    285\u001b[0m             \u001b[1;32mexcept\u001b[0m\u001b[1;33m:\u001b[0m\u001b[1;33m\u001b[0m\u001b[0m\n\u001b[1;32m--> 286\u001b[1;33m                 \u001b[1;32mraise\u001b[0m \u001b[0mTypeError\u001b[0m\u001b[1;33m(\u001b[0m\u001b[1;34m'can not initialize DMatrix from {}'\u001b[0m\u001b[1;33m.\u001b[0m\u001b[0mformat\u001b[0m\u001b[1;33m(\u001b[0m\u001b[0mtype\u001b[0m\u001b[1;33m(\u001b[0m\u001b[0mdata\u001b[0m\u001b[1;33m)\u001b[0m\u001b[1;33m.\u001b[0m\u001b[0m__name__\u001b[0m\u001b[1;33m)\u001b[0m\u001b[1;33m)\u001b[0m\u001b[1;33m\u001b[0m\u001b[0m\n\u001b[0m\u001b[0;32m    287\u001b[0m         \u001b[1;32mif\u001b[0m \u001b[0mlabel\u001b[0m \u001b[1;32mis\u001b[0m \u001b[1;32mnot\u001b[0m \u001b[1;32mNone\u001b[0m\u001b[1;33m:\u001b[0m\u001b[1;33m\u001b[0m\u001b[0m\n\u001b[0;32m    288\u001b[0m             \u001b[1;32mif\u001b[0m \u001b[0misinstance\u001b[0m\u001b[1;33m(\u001b[0m\u001b[0mdata\u001b[0m\u001b[1;33m,\u001b[0m \u001b[0mnp\u001b[0m\u001b[1;33m.\u001b[0m\u001b[0mndarray\u001b[0m\u001b[1;33m)\u001b[0m\u001b[1;33m:\u001b[0m\u001b[1;33m\u001b[0m\u001b[0m\n",
      "\u001b[1;31mTypeError\u001b[0m: can not initialize DMatrix from DMatrix"
     ]
    }
   ],
   "source": [
    "model_xgb = xgb.XGBRegressor(n_estimators=360, max_depth=2, learning_rate=0.1) #the params were tuned using xgb.cv\n",
    "model_xgb.fit(dtrain, y)\n",
    "xgb_preds = np.expm1(model_xgb.predict(X_test))"
   ]
  },
  {
   "cell_type": "code",
   "execution_count": null,
   "metadata": {
    "_cell_guid": "2b87a004-3a9a-77cc-4b5b-6540f870c028",
    "collapsed": true
   },
   "outputs": [],
   "source": [
    "\n",
    "lasso_preds = np.expm1(model_lasso.predict(X_test))"
   ]
  },
  {
   "cell_type": "code",
   "execution_count": 962,
   "metadata": {
    "collapsed": true
   },
   "outputs": [],
   "source": [
    "sub = pd.DataFrame()\n",
    "sub['Id'] = test['Id']\n",
    "sub['SalePrice'] = lasso_preds\n",
    "sub.to_csv('submission_lasso.csv',index=False)"
   ]
  },
  {
   "cell_type": "code",
   "execution_count": null,
   "metadata": {
    "collapsed": true
   },
   "outputs": [],
   "source": []
  }
 ],
 "metadata": {
  "_change_revision": 0,
  "_is_fork": false,
  "kernelspec": {
   "display_name": "Python 3",
   "language": "python",
   "name": "python3"
  },
  "language_info": {
   "codemirror_mode": {
    "name": "ipython",
    "version": 3
   },
   "file_extension": ".py",
   "mimetype": "text/x-python",
   "name": "python",
   "nbconvert_exporter": "python",
   "pygments_lexer": "ipython3",
   "version": "3.6.3"
  }
 },
 "nbformat": 4,
 "nbformat_minor": 1
}
